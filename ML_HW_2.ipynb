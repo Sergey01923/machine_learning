{
 "cells": [
  {
   "cell_type": "markdown",
   "id": "b45ad8d4",
   "metadata": {},
   "source": [
    "## Датасет - Music Genre Classification"
   ]
  },
  {
   "cell_type": "markdown",
   "id": "0dfd4187",
   "metadata": {},
   "source": [
    "## Описание задачи  \n",
    "По приведенным характеристикам определить жанр музыки к которому принадлежит песня."
   ]
  },
  {
   "cell_type": "code",
   "execution_count": 62,
   "id": "94bdfd6a",
   "metadata": {},
   "outputs": [],
   "source": [
    "import numpy as np              # Массивы (матрицы, векторы, линейная алгебра)\n",
    "import matplotlib.pyplot as plt # Научная графика\n",
    "%matplotlib inline \n",
    "    # Говорим jupyter'у, чтобы весь графический вывод был в браузере, а не в отдельном окне\n",
    "import pandas as pd             # Таблицы и временные ряды (dataframe, series)\n",
    "import seaborn as sns           # Еще больше красивой графики для визуализации данных\n",
    "import sklearn                  # Алгоритмы машинного обучения\n",
    "from sklearn.metrics import accuracy_score\n",
    "import tqdm"
   ]
  },
  {
   "cell_type": "code",
   "execution_count": 63,
   "id": "973ea612",
   "metadata": {},
   "outputs": [],
   "source": [
    "url_train = r\"F:/Downloads/Music Genre/train.csv\"\n",
    "\n",
    "data = pd.read_csv(url_train)"
   ]
  },
  {
   "cell_type": "code",
   "execution_count": 64,
   "id": "d63757d1",
   "metadata": {},
   "outputs": [
    {
     "data": {
      "text/plain": [
       "Index(['Artist Name', 'Track Name', 'Popularity', 'danceability', 'energy',\n",
       "       'key', 'loudness', 'mode', 'speechiness', 'acousticness',\n",
       "       'instrumentalness', 'liveness', 'valence', 'tempo',\n",
       "       'duration_in min/ms', 'time_signature', 'Class'],\n",
       "      dtype='object')"
      ]
     },
     "execution_count": 64,
     "metadata": {},
     "output_type": "execute_result"
    }
   ],
   "source": [
    "data.columns"
   ]
  },
  {
   "cell_type": "code",
   "execution_count": 65,
   "id": "5c3bde99",
   "metadata": {
    "scrolled": true
   },
   "outputs": [
    {
     "data": {
      "text/html": [
       "<div>\n",
       "<style scoped>\n",
       "    .dataframe tbody tr th:only-of-type {\n",
       "        vertical-align: middle;\n",
       "    }\n",
       "\n",
       "    .dataframe tbody tr th {\n",
       "        vertical-align: top;\n",
       "    }\n",
       "\n",
       "    .dataframe thead th {\n",
       "        text-align: right;\n",
       "    }\n",
       "</style>\n",
       "<table border=\"1\" class=\"dataframe\">\n",
       "  <thead>\n",
       "    <tr style=\"text-align: right;\">\n",
       "      <th></th>\n",
       "      <th>Artist Name</th>\n",
       "      <th>Track Name</th>\n",
       "      <th>Popularity</th>\n",
       "      <th>danceability</th>\n",
       "      <th>energy</th>\n",
       "      <th>key</th>\n",
       "      <th>loudness</th>\n",
       "      <th>mode</th>\n",
       "      <th>speechiness</th>\n",
       "      <th>acousticness</th>\n",
       "      <th>instrumentalness</th>\n",
       "      <th>liveness</th>\n",
       "      <th>valence</th>\n",
       "      <th>tempo</th>\n",
       "      <th>duration_in min/ms</th>\n",
       "      <th>time_signature</th>\n",
       "      <th>Class</th>\n",
       "    </tr>\n",
       "  </thead>\n",
       "  <tbody>\n",
       "    <tr>\n",
       "      <th>0</th>\n",
       "      <td>Bruno Mars</td>\n",
       "      <td>That's What I Like (feat. Gucci Mane)</td>\n",
       "      <td>60.0</td>\n",
       "      <td>0.854</td>\n",
       "      <td>0.564</td>\n",
       "      <td>1.0</td>\n",
       "      <td>-4.964</td>\n",
       "      <td>1</td>\n",
       "      <td>0.0485</td>\n",
       "      <td>0.017100</td>\n",
       "      <td>NaN</td>\n",
       "      <td>0.0849</td>\n",
       "      <td>0.8990</td>\n",
       "      <td>134.071</td>\n",
       "      <td>234596.0</td>\n",
       "      <td>4</td>\n",
       "      <td>5</td>\n",
       "    </tr>\n",
       "    <tr>\n",
       "      <th>1</th>\n",
       "      <td>Boston</td>\n",
       "      <td>Hitch a Ride</td>\n",
       "      <td>54.0</td>\n",
       "      <td>0.382</td>\n",
       "      <td>0.814</td>\n",
       "      <td>3.0</td>\n",
       "      <td>-7.230</td>\n",
       "      <td>1</td>\n",
       "      <td>0.0406</td>\n",
       "      <td>0.001100</td>\n",
       "      <td>0.004010</td>\n",
       "      <td>0.1010</td>\n",
       "      <td>0.5690</td>\n",
       "      <td>116.454</td>\n",
       "      <td>251733.0</td>\n",
       "      <td>4</td>\n",
       "      <td>10</td>\n",
       "    </tr>\n",
       "    <tr>\n",
       "      <th>2</th>\n",
       "      <td>The Raincoats</td>\n",
       "      <td>No Side to Fall In</td>\n",
       "      <td>35.0</td>\n",
       "      <td>0.434</td>\n",
       "      <td>0.614</td>\n",
       "      <td>6.0</td>\n",
       "      <td>-8.334</td>\n",
       "      <td>1</td>\n",
       "      <td>0.0525</td>\n",
       "      <td>0.486000</td>\n",
       "      <td>0.000196</td>\n",
       "      <td>0.3940</td>\n",
       "      <td>0.7870</td>\n",
       "      <td>147.681</td>\n",
       "      <td>109667.0</td>\n",
       "      <td>4</td>\n",
       "      <td>6</td>\n",
       "    </tr>\n",
       "    <tr>\n",
       "      <th>3</th>\n",
       "      <td>Deno</td>\n",
       "      <td>Lingo (feat. J.I &amp; Chunkz)</td>\n",
       "      <td>66.0</td>\n",
       "      <td>0.853</td>\n",
       "      <td>0.597</td>\n",
       "      <td>10.0</td>\n",
       "      <td>-6.528</td>\n",
       "      <td>0</td>\n",
       "      <td>0.0555</td>\n",
       "      <td>0.021200</td>\n",
       "      <td>NaN</td>\n",
       "      <td>0.1220</td>\n",
       "      <td>0.5690</td>\n",
       "      <td>107.033</td>\n",
       "      <td>173968.0</td>\n",
       "      <td>4</td>\n",
       "      <td>5</td>\n",
       "    </tr>\n",
       "    <tr>\n",
       "      <th>4</th>\n",
       "      <td>Red Hot Chili Peppers</td>\n",
       "      <td>Nobody Weird Like Me - Remastered</td>\n",
       "      <td>53.0</td>\n",
       "      <td>0.167</td>\n",
       "      <td>0.975</td>\n",
       "      <td>2.0</td>\n",
       "      <td>-4.279</td>\n",
       "      <td>1</td>\n",
       "      <td>0.2160</td>\n",
       "      <td>0.000169</td>\n",
       "      <td>0.016100</td>\n",
       "      <td>0.1720</td>\n",
       "      <td>0.0918</td>\n",
       "      <td>199.060</td>\n",
       "      <td>229960.0</td>\n",
       "      <td>4</td>\n",
       "      <td>10</td>\n",
       "    </tr>\n",
       "  </tbody>\n",
       "</table>\n",
       "</div>"
      ],
      "text/plain": [
       "             Artist Name                             Track Name  Popularity  \\\n",
       "0             Bruno Mars  That's What I Like (feat. Gucci Mane)        60.0   \n",
       "1                 Boston                           Hitch a Ride        54.0   \n",
       "2          The Raincoats                     No Side to Fall In        35.0   \n",
       "3                   Deno             Lingo (feat. J.I & Chunkz)        66.0   \n",
       "4  Red Hot Chili Peppers      Nobody Weird Like Me - Remastered        53.0   \n",
       "\n",
       "   danceability  energy   key  loudness  mode  speechiness  acousticness  \\\n",
       "0         0.854   0.564   1.0    -4.964     1       0.0485      0.017100   \n",
       "1         0.382   0.814   3.0    -7.230     1       0.0406      0.001100   \n",
       "2         0.434   0.614   6.0    -8.334     1       0.0525      0.486000   \n",
       "3         0.853   0.597  10.0    -6.528     0       0.0555      0.021200   \n",
       "4         0.167   0.975   2.0    -4.279     1       0.2160      0.000169   \n",
       "\n",
       "   instrumentalness  liveness  valence    tempo  duration_in min/ms  \\\n",
       "0               NaN    0.0849   0.8990  134.071            234596.0   \n",
       "1          0.004010    0.1010   0.5690  116.454            251733.0   \n",
       "2          0.000196    0.3940   0.7870  147.681            109667.0   \n",
       "3               NaN    0.1220   0.5690  107.033            173968.0   \n",
       "4          0.016100    0.1720   0.0918  199.060            229960.0   \n",
       "\n",
       "   time_signature  Class  \n",
       "0               4      5  \n",
       "1               4     10  \n",
       "2               4      6  \n",
       "3               4      5  \n",
       "4               4     10  "
      ]
     },
     "execution_count": 65,
     "metadata": {},
     "output_type": "execute_result"
    }
   ],
   "source": [
    "data.head()"
   ]
  },
  {
   "cell_type": "code",
   "execution_count": 66,
   "id": "099514d7",
   "metadata": {},
   "outputs": [
    {
     "data": {
      "text/html": [
       "<div>\n",
       "<style scoped>\n",
       "    .dataframe tbody tr th:only-of-type {\n",
       "        vertical-align: middle;\n",
       "    }\n",
       "\n",
       "    .dataframe tbody tr th {\n",
       "        vertical-align: top;\n",
       "    }\n",
       "\n",
       "    .dataframe thead th {\n",
       "        text-align: right;\n",
       "    }\n",
       "</style>\n",
       "<table border=\"1\" class=\"dataframe\">\n",
       "  <thead>\n",
       "    <tr style=\"text-align: right;\">\n",
       "      <th></th>\n",
       "      <th>Artist Name</th>\n",
       "      <th>Track Name</th>\n",
       "      <th>Popularity</th>\n",
       "      <th>danceability</th>\n",
       "      <th>energy</th>\n",
       "      <th>key</th>\n",
       "      <th>loudness</th>\n",
       "      <th>mode</th>\n",
       "      <th>speechiness</th>\n",
       "      <th>acousticness</th>\n",
       "      <th>instrumentalness</th>\n",
       "      <th>liveness</th>\n",
       "      <th>valence</th>\n",
       "      <th>tempo</th>\n",
       "      <th>duration_in min/ms</th>\n",
       "      <th>time_signature</th>\n",
       "      <th>Class</th>\n",
       "    </tr>\n",
       "  </thead>\n",
       "  <tbody>\n",
       "    <tr>\n",
       "      <th>17991</th>\n",
       "      <td>Green-House</td>\n",
       "      <td>Find Home</td>\n",
       "      <td>35.0</td>\n",
       "      <td>0.166</td>\n",
       "      <td>0.109</td>\n",
       "      <td>7.0</td>\n",
       "      <td>-17.100</td>\n",
       "      <td>0</td>\n",
       "      <td>0.0413</td>\n",
       "      <td>0.99300</td>\n",
       "      <td>0.824000</td>\n",
       "      <td>0.0984</td>\n",
       "      <td>0.177</td>\n",
       "      <td>171.587</td>\n",
       "      <td>193450.0</td>\n",
       "      <td>3</td>\n",
       "      <td>6</td>\n",
       "    </tr>\n",
       "    <tr>\n",
       "      <th>17992</th>\n",
       "      <td>Micatone</td>\n",
       "      <td>All Gone</td>\n",
       "      <td>27.0</td>\n",
       "      <td>0.638</td>\n",
       "      <td>0.223</td>\n",
       "      <td>11.0</td>\n",
       "      <td>-10.174</td>\n",
       "      <td>0</td>\n",
       "      <td>0.0329</td>\n",
       "      <td>0.85800</td>\n",
       "      <td>0.000016</td>\n",
       "      <td>0.0705</td>\n",
       "      <td>0.335</td>\n",
       "      <td>73.016</td>\n",
       "      <td>257067.0</td>\n",
       "      <td>4</td>\n",
       "      <td>2</td>\n",
       "    </tr>\n",
       "    <tr>\n",
       "      <th>17993</th>\n",
       "      <td>Smash Hit Combo</td>\n",
       "      <td>Peine perdue</td>\n",
       "      <td>34.0</td>\n",
       "      <td>0.558</td>\n",
       "      <td>0.981</td>\n",
       "      <td>4.0</td>\n",
       "      <td>-4.683</td>\n",
       "      <td>0</td>\n",
       "      <td>0.0712</td>\n",
       "      <td>0.00003</td>\n",
       "      <td>0.000136</td>\n",
       "      <td>0.6660</td>\n",
       "      <td>0.262</td>\n",
       "      <td>105.000</td>\n",
       "      <td>216222.0</td>\n",
       "      <td>4</td>\n",
       "      <td>8</td>\n",
       "    </tr>\n",
       "    <tr>\n",
       "      <th>17994</th>\n",
       "      <td>Beherit</td>\n",
       "      <td>Salomon's Gate</td>\n",
       "      <td>29.0</td>\n",
       "      <td>0.215</td>\n",
       "      <td>0.805</td>\n",
       "      <td>6.0</td>\n",
       "      <td>-12.757</td>\n",
       "      <td>0</td>\n",
       "      <td>0.1340</td>\n",
       "      <td>0.00129</td>\n",
       "      <td>0.916000</td>\n",
       "      <td>0.2560</td>\n",
       "      <td>0.355</td>\n",
       "      <td>131.363</td>\n",
       "      <td>219693.0</td>\n",
       "      <td>4</td>\n",
       "      <td>8</td>\n",
       "    </tr>\n",
       "    <tr>\n",
       "      <th>17995</th>\n",
       "      <td>The Raconteurs</td>\n",
       "      <td>Broken Boy Soldier</td>\n",
       "      <td>43.0</td>\n",
       "      <td>0.400</td>\n",
       "      <td>0.853</td>\n",
       "      <td>4.0</td>\n",
       "      <td>-5.320</td>\n",
       "      <td>0</td>\n",
       "      <td>0.0591</td>\n",
       "      <td>0.00604</td>\n",
       "      <td>0.212000</td>\n",
       "      <td>0.3340</td>\n",
       "      <td>0.377</td>\n",
       "      <td>138.102</td>\n",
       "      <td>182227.0</td>\n",
       "      <td>4</td>\n",
       "      <td>10</td>\n",
       "    </tr>\n",
       "  </tbody>\n",
       "</table>\n",
       "</div>"
      ],
      "text/plain": [
       "           Artist Name          Track Name  Popularity  danceability  energy  \\\n",
       "17991      Green-House           Find Home        35.0         0.166   0.109   \n",
       "17992         Micatone            All Gone        27.0         0.638   0.223   \n",
       "17993  Smash Hit Combo        Peine perdue        34.0         0.558   0.981   \n",
       "17994          Beherit      Salomon's Gate        29.0         0.215   0.805   \n",
       "17995   The Raconteurs  Broken Boy Soldier        43.0         0.400   0.853   \n",
       "\n",
       "        key  loudness  mode  speechiness  acousticness  instrumentalness  \\\n",
       "17991   7.0   -17.100     0       0.0413       0.99300          0.824000   \n",
       "17992  11.0   -10.174     0       0.0329       0.85800          0.000016   \n",
       "17993   4.0    -4.683     0       0.0712       0.00003          0.000136   \n",
       "17994   6.0   -12.757     0       0.1340       0.00129          0.916000   \n",
       "17995   4.0    -5.320     0       0.0591       0.00604          0.212000   \n",
       "\n",
       "       liveness  valence    tempo  duration_in min/ms  time_signature  Class  \n",
       "17991    0.0984    0.177  171.587            193450.0               3      6  \n",
       "17992    0.0705    0.335   73.016            257067.0               4      2  \n",
       "17993    0.6660    0.262  105.000            216222.0               4      8  \n",
       "17994    0.2560    0.355  131.363            219693.0               4      8  \n",
       "17995    0.3340    0.377  138.102            182227.0               4     10  "
      ]
     },
     "execution_count": 66,
     "metadata": {},
     "output_type": "execute_result"
    }
   ],
   "source": [
    "data.tail()"
   ]
  },
  {
   "cell_type": "markdown",
   "id": "0184751b",
   "metadata": {},
   "source": [
    "Столбцы (признаки) имеют имена:\n",
    "\n",
    "- artist name - имя артиста\n",
    "- track name - название песни\n",
    "- popularity - популярность\n",
    "- danceability - коэффициент \"танцевальности\"\n",
    "- energy - энергичность\n",
    "- key \n",
    "- loudness - громкость\n",
    "- mode\n",
    "- speechiness -  бессловесность\n",
    "- acousticness - акустичность\n",
    "- instrumentalness - инструменатльность\n",
    "- liveness \n",
    "- valence  Описывает музыкальную позитивность\n",
    "- tempo - темп песни\n",
    "- duration in -milliseconds  - длительность\n",
    "- time_signature - размер такта\n",
    "- Class - класс музыки \n",
    "\n",
    "Требуется предсказать категориальный признак Class по остальным признакам. Это задача классификации.\n",
    "Классы: Rock - 10 , Indie - 6 , Pop - 9, Metal - 8, HipHop - 5, Alt_Music - 1 , Blues - 2 , Acoustic/Folk - 0 , Instrumental-7 , Country - 4 , Bollywood - 3"
   ]
  },
  {
   "cell_type": "code",
   "execution_count": 67,
   "id": "a46b8e70",
   "metadata": {},
   "outputs": [
    {
     "data": {
      "text/html": [
       "<div>\n",
       "<style scoped>\n",
       "    .dataframe tbody tr th:only-of-type {\n",
       "        vertical-align: middle;\n",
       "    }\n",
       "\n",
       "    .dataframe tbody tr th {\n",
       "        vertical-align: top;\n",
       "    }\n",
       "\n",
       "    .dataframe thead th {\n",
       "        text-align: right;\n",
       "    }\n",
       "</style>\n",
       "<table border=\"1\" class=\"dataframe\">\n",
       "  <thead>\n",
       "    <tr style=\"text-align: right;\">\n",
       "      <th></th>\n",
       "      <th>Artist Name</th>\n",
       "      <th>Track Name</th>\n",
       "      <th>Popularity</th>\n",
       "      <th>danceability</th>\n",
       "      <th>energy</th>\n",
       "      <th>key</th>\n",
       "      <th>loudness</th>\n",
       "      <th>mode</th>\n",
       "      <th>speechiness</th>\n",
       "      <th>acousticness</th>\n",
       "      <th>instrumentalness</th>\n",
       "      <th>liveness</th>\n",
       "      <th>valence</th>\n",
       "      <th>tempo</th>\n",
       "      <th>duration_in min/ms</th>\n",
       "      <th>time_signature</th>\n",
       "      <th>Class</th>\n",
       "    </tr>\n",
       "  </thead>\n",
       "  <tbody>\n",
       "    <tr>\n",
       "      <th>21</th>\n",
       "      <td>Clairmont The Second</td>\n",
       "      <td>intres-ting</td>\n",
       "      <td>44.0</td>\n",
       "      <td>0.796</td>\n",
       "      <td>0.4410</td>\n",
       "      <td>7.0</td>\n",
       "      <td>-9.830</td>\n",
       "      <td>1</td>\n",
       "      <td>0.2920</td>\n",
       "      <td>0.16000</td>\n",
       "      <td>0.000029</td>\n",
       "      <td>0.1180</td>\n",
       "      <td>0.371</td>\n",
       "      <td>158.105</td>\n",
       "      <td>137872.0</td>\n",
       "      <td>4</td>\n",
       "      <td>1</td>\n",
       "    </tr>\n",
       "    <tr>\n",
       "      <th>27</th>\n",
       "      <td>duendita</td>\n",
       "      <td>Open Eyes</td>\n",
       "      <td>35.0</td>\n",
       "      <td>0.341</td>\n",
       "      <td>0.4700</td>\n",
       "      <td>5.0</td>\n",
       "      <td>-10.144</td>\n",
       "      <td>1</td>\n",
       "      <td>0.0370</td>\n",
       "      <td>0.22600</td>\n",
       "      <td>0.105000</td>\n",
       "      <td>0.5180</td>\n",
       "      <td>0.203</td>\n",
       "      <td>144.109</td>\n",
       "      <td>204280.0</td>\n",
       "      <td>4</td>\n",
       "      <td>1</td>\n",
       "    </tr>\n",
       "    <tr>\n",
       "      <th>35</th>\n",
       "      <td>Brandon Jack &amp; The Artifacts</td>\n",
       "      <td>four days</td>\n",
       "      <td>29.0</td>\n",
       "      <td>0.516</td>\n",
       "      <td>0.9480</td>\n",
       "      <td>2.0</td>\n",
       "      <td>-3.994</td>\n",
       "      <td>1</td>\n",
       "      <td>0.0644</td>\n",
       "      <td>0.02790</td>\n",
       "      <td>0.056400</td>\n",
       "      <td>0.1500</td>\n",
       "      <td>0.957</td>\n",
       "      <td>170.087</td>\n",
       "      <td>130329.0</td>\n",
       "      <td>4</td>\n",
       "      <td>1</td>\n",
       "    </tr>\n",
       "    <tr>\n",
       "      <th>53</th>\n",
       "      <td>Veruca Salt</td>\n",
       "      <td>Seether</td>\n",
       "      <td>47.0</td>\n",
       "      <td>0.612</td>\n",
       "      <td>0.8600</td>\n",
       "      <td>8.0</td>\n",
       "      <td>-9.175</td>\n",
       "      <td>1</td>\n",
       "      <td>0.0440</td>\n",
       "      <td>0.00253</td>\n",
       "      <td>0.001530</td>\n",
       "      <td>0.1580</td>\n",
       "      <td>0.687</td>\n",
       "      <td>136.212</td>\n",
       "      <td>196467.0</td>\n",
       "      <td>4</td>\n",
       "      <td>1</td>\n",
       "    </tr>\n",
       "    <tr>\n",
       "      <th>59</th>\n",
       "      <td>Nick Cave &amp; The Bad Seeds</td>\n",
       "      <td>Deanna</td>\n",
       "      <td>41.0</td>\n",
       "      <td>0.415</td>\n",
       "      <td>0.9400</td>\n",
       "      <td>NaN</td>\n",
       "      <td>-4.874</td>\n",
       "      <td>1</td>\n",
       "      <td>0.0889</td>\n",
       "      <td>0.00490</td>\n",
       "      <td>NaN</td>\n",
       "      <td>0.1440</td>\n",
       "      <td>0.439</td>\n",
       "      <td>134.392</td>\n",
       "      <td>225627.0</td>\n",
       "      <td>4</td>\n",
       "      <td>1</td>\n",
       "    </tr>\n",
       "    <tr>\n",
       "      <th>...</th>\n",
       "      <td>...</td>\n",
       "      <td>...</td>\n",
       "      <td>...</td>\n",
       "      <td>...</td>\n",
       "      <td>...</td>\n",
       "      <td>...</td>\n",
       "      <td>...</td>\n",
       "      <td>...</td>\n",
       "      <td>...</td>\n",
       "      <td>...</td>\n",
       "      <td>...</td>\n",
       "      <td>...</td>\n",
       "      <td>...</td>\n",
       "      <td>...</td>\n",
       "      <td>...</td>\n",
       "      <td>...</td>\n",
       "      <td>...</td>\n",
       "    </tr>\n",
       "    <tr>\n",
       "      <th>17926</th>\n",
       "      <td>ceo@business.net</td>\n",
       "      <td>buttercup 2</td>\n",
       "      <td>50.0</td>\n",
       "      <td>0.798</td>\n",
       "      <td>0.5190</td>\n",
       "      <td>5.0</td>\n",
       "      <td>-7.380</td>\n",
       "      <td>0</td>\n",
       "      <td>0.0622</td>\n",
       "      <td>0.37500</td>\n",
       "      <td>0.000652</td>\n",
       "      <td>0.1310</td>\n",
       "      <td>0.521</td>\n",
       "      <td>116.046</td>\n",
       "      <td>136500.0</td>\n",
       "      <td>4</td>\n",
       "      <td>1</td>\n",
       "    </tr>\n",
       "    <tr>\n",
       "      <th>17933</th>\n",
       "      <td>The Clash</td>\n",
       "      <td>London Calling - Remastered</td>\n",
       "      <td>73.0</td>\n",
       "      <td>0.651</td>\n",
       "      <td>0.8010</td>\n",
       "      <td>NaN</td>\n",
       "      <td>-7.340</td>\n",
       "      <td>1</td>\n",
       "      <td>0.0514</td>\n",
       "      <td>0.12300</td>\n",
       "      <td>NaN</td>\n",
       "      <td>0.0825</td>\n",
       "      <td>0.776</td>\n",
       "      <td>133.769</td>\n",
       "      <td>200480.0</td>\n",
       "      <td>4</td>\n",
       "      <td>1</td>\n",
       "    </tr>\n",
       "    <tr>\n",
       "      <th>17947</th>\n",
       "      <td>Repenter</td>\n",
       "      <td>Forever</td>\n",
       "      <td>21.0</td>\n",
       "      <td>0.378</td>\n",
       "      <td>0.7640</td>\n",
       "      <td>11.0</td>\n",
       "      <td>-10.469</td>\n",
       "      <td>1</td>\n",
       "      <td>0.0857</td>\n",
       "      <td>0.02110</td>\n",
       "      <td>0.226000</td>\n",
       "      <td>0.3550</td>\n",
       "      <td>0.354</td>\n",
       "      <td>149.385</td>\n",
       "      <td>250867.0</td>\n",
       "      <td>4</td>\n",
       "      <td>1</td>\n",
       "    </tr>\n",
       "    <tr>\n",
       "      <th>17987</th>\n",
       "      <td>Jilted John</td>\n",
       "      <td>Jilted John - Single Version</td>\n",
       "      <td>42.0</td>\n",
       "      <td>0.351</td>\n",
       "      <td>0.8830</td>\n",
       "      <td>NaN</td>\n",
       "      <td>-6.952</td>\n",
       "      <td>1</td>\n",
       "      <td>0.0562</td>\n",
       "      <td>0.03630</td>\n",
       "      <td>NaN</td>\n",
       "      <td>0.4990</td>\n",
       "      <td>0.880</td>\n",
       "      <td>195.666</td>\n",
       "      <td>175400.0</td>\n",
       "      <td>4</td>\n",
       "      <td>1</td>\n",
       "    </tr>\n",
       "    <tr>\n",
       "      <th>17990</th>\n",
       "      <td>Henrik Lindstrand</td>\n",
       "      <td>Hallonlandet</td>\n",
       "      <td>26.0</td>\n",
       "      <td>0.468</td>\n",
       "      <td>0.0835</td>\n",
       "      <td>2.0</td>\n",
       "      <td>-25.131</td>\n",
       "      <td>1</td>\n",
       "      <td>0.0411</td>\n",
       "      <td>0.95000</td>\n",
       "      <td>0.902000</td>\n",
       "      <td>0.1080</td>\n",
       "      <td>0.142</td>\n",
       "      <td>102.340</td>\n",
       "      <td>194059.0</td>\n",
       "      <td>4</td>\n",
       "      <td>1</td>\n",
       "    </tr>\n",
       "  </tbody>\n",
       "</table>\n",
       "<p>1373 rows × 17 columns</p>\n",
       "</div>"
      ],
      "text/plain": [
       "                        Artist Name                    Track Name  Popularity  \\\n",
       "21             Clairmont The Second                   intres-ting        44.0   \n",
       "27                         duendita                     Open Eyes        35.0   \n",
       "35     Brandon Jack & The Artifacts                     four days        29.0   \n",
       "53                      Veruca Salt                       Seether        47.0   \n",
       "59        Nick Cave & The Bad Seeds                        Deanna        41.0   \n",
       "...                             ...                           ...         ...   \n",
       "17926              ceo@business.net                   buttercup 2        50.0   \n",
       "17933                     The Clash   London Calling - Remastered        73.0   \n",
       "17947                      Repenter                       Forever        21.0   \n",
       "17987                   Jilted John  Jilted John - Single Version        42.0   \n",
       "17990             Henrik Lindstrand                  Hallonlandet        26.0   \n",
       "\n",
       "       danceability  energy   key  loudness  mode  speechiness  acousticness  \\\n",
       "21            0.796  0.4410   7.0    -9.830     1       0.2920       0.16000   \n",
       "27            0.341  0.4700   5.0   -10.144     1       0.0370       0.22600   \n",
       "35            0.516  0.9480   2.0    -3.994     1       0.0644       0.02790   \n",
       "53            0.612  0.8600   8.0    -9.175     1       0.0440       0.00253   \n",
       "59            0.415  0.9400   NaN    -4.874     1       0.0889       0.00490   \n",
       "...             ...     ...   ...       ...   ...          ...           ...   \n",
       "17926         0.798  0.5190   5.0    -7.380     0       0.0622       0.37500   \n",
       "17933         0.651  0.8010   NaN    -7.340     1       0.0514       0.12300   \n",
       "17947         0.378  0.7640  11.0   -10.469     1       0.0857       0.02110   \n",
       "17987         0.351  0.8830   NaN    -6.952     1       0.0562       0.03630   \n",
       "17990         0.468  0.0835   2.0   -25.131     1       0.0411       0.95000   \n",
       "\n",
       "       instrumentalness  liveness  valence    tempo  duration_in min/ms  \\\n",
       "21             0.000029    0.1180    0.371  158.105            137872.0   \n",
       "27             0.105000    0.5180    0.203  144.109            204280.0   \n",
       "35             0.056400    0.1500    0.957  170.087            130329.0   \n",
       "53             0.001530    0.1580    0.687  136.212            196467.0   \n",
       "59                  NaN    0.1440    0.439  134.392            225627.0   \n",
       "...                 ...       ...      ...      ...                 ...   \n",
       "17926          0.000652    0.1310    0.521  116.046            136500.0   \n",
       "17933               NaN    0.0825    0.776  133.769            200480.0   \n",
       "17947          0.226000    0.3550    0.354  149.385            250867.0   \n",
       "17987               NaN    0.4990    0.880  195.666            175400.0   \n",
       "17990          0.902000    0.1080    0.142  102.340            194059.0   \n",
       "\n",
       "       time_signature  Class  \n",
       "21                  4      1  \n",
       "27                  4      1  \n",
       "35                  4      1  \n",
       "53                  4      1  \n",
       "59                  4      1  \n",
       "...               ...    ...  \n",
       "17926               4      1  \n",
       "17933               4      1  \n",
       "17947               4      1  \n",
       "17987               4      1  \n",
       "17990               4      1  \n",
       "\n",
       "[1373 rows x 17 columns]"
      ]
     },
     "execution_count": 67,
     "metadata": {},
     "output_type": "execute_result"
    }
   ],
   "source": [
    "data[data['Class'] == 1]"
   ]
  },
  {
   "cell_type": "code",
   "execution_count": null,
   "id": "f6141d31",
   "metadata": {},
   "outputs": [],
   "source": []
  },
  {
   "cell_type": "code",
   "execution_count": 68,
   "id": "42685324",
   "metadata": {},
   "outputs": [
    {
     "data": {
      "text/plain": [
       "0.005     2.000\n",
       "0.010     4.000\n",
       "0.050    16.000\n",
       "0.100    23.000\n",
       "0.500    44.000\n",
       "0.900    68.000\n",
       "0.950    74.650\n",
       "0.990    84.000\n",
       "0.995    87.165\n",
       "Name: Popularity, dtype: float64"
      ]
     },
     "execution_count": 68,
     "metadata": {},
     "output_type": "execute_result"
    }
   ],
   "source": [
    "data['Popularity'].quantile([0.005,.01,.05,.1,.5,.9,.95,.99,.995])"
   ]
  },
  {
   "cell_type": "code",
   "execution_count": 69,
   "id": "b4d84a03",
   "metadata": {},
   "outputs": [
    {
     "data": {
      "text/plain": [
       "Artist Name              0\n",
       "Track Name               0\n",
       "Popularity             428\n",
       "danceability             0\n",
       "energy                   0\n",
       "key                   2014\n",
       "loudness                 0\n",
       "mode                     0\n",
       "speechiness              0\n",
       "acousticness             0\n",
       "instrumentalness      4377\n",
       "liveness                 0\n",
       "valence                  0\n",
       "tempo                    0\n",
       "duration_in min/ms       0\n",
       "time_signature           0\n",
       "Class                    0\n",
       "dtype: int64"
      ]
     },
     "execution_count": 69,
     "metadata": {},
     "output_type": "execute_result"
    }
   ],
   "source": [
    "data.isna().sum()"
   ]
  },
  {
   "cell_type": "code",
   "execution_count": 70,
   "id": "dede1998",
   "metadata": {},
   "outputs": [
    {
     "data": {
      "text/plain": [
       "Artist Name           0\n",
       "Track Name            0\n",
       "Popularity            0\n",
       "danceability          0\n",
       "energy                0\n",
       "key                   0\n",
       "loudness              0\n",
       "mode                  0\n",
       "speechiness           0\n",
       "acousticness          0\n",
       "instrumentalness      0\n",
       "liveness              0\n",
       "valence               0\n",
       "tempo                 0\n",
       "duration_in min/ms    0\n",
       "time_signature        0\n",
       "Class                 0\n",
       "dtype: int64"
      ]
     },
     "execution_count": 70,
     "metadata": {},
     "output_type": "execute_result"
    }
   ],
   "source": [
    "data = data.dropna()\n",
    "data.isna().sum()"
   ]
  },
  {
   "cell_type": "markdown",
   "id": "8becee59",
   "metadata": {},
   "source": [
    "Поменяем задачу будет пытаться определить относится ли музыка категории РОК / МЕТАЛ или любая другая. Сведем задачу к бинарной классификации"
   ]
  },
  {
   "cell_type": "code",
   "execution_count": null,
   "id": "b9bfd5ba",
   "metadata": {},
   "outputs": [],
   "source": []
  },
  {
   "cell_type": "code",
   "execution_count": 71,
   "id": "28ddb903",
   "metadata": {},
   "outputs": [],
   "source": [
    "#data['Class'].value_counts()"
   ]
  },
  {
   "cell_type": "code",
   "execution_count": 72,
   "id": "2e11c8bc",
   "metadata": {},
   "outputs": [],
   "source": [
    "y = data[\"Class\"]\n",
    "data = data.drop([\"Class\"], axis=1)"
   ]
  },
  {
   "cell_type": "markdown",
   "id": "caa1af00",
   "metadata": {},
   "source": [
    "# Нормализация количественных признаков"
   ]
  },
  {
   "cell_type": "markdown",
   "id": "d56ec82e",
   "metadata": {},
   "source": [
    "Выполним стандартизацию всех признаков (линейное преобразование, приводящее все значения к нулевому среднему и единичному стандартному отклонению): Выбираем имеено этот вариант нормализации, так как в дальнейшем будем использовать алгоритм k ближайших соседей, основанный на измерении расстояний."
   ]
  },
  {
   "cell_type": "code",
   "execution_count": 73,
   "id": "649209e3",
   "metadata": {},
   "outputs": [],
   "source": [
    "data_stand = (data - data.mean(axis = 0))/data.std(axis = 0)\n",
    "data = pd.concat((data_stand,y),axis = 1)"
   ]
  },
  {
   "cell_type": "code",
   "execution_count": 74,
   "id": "c8a7a7d8",
   "metadata": {},
   "outputs": [
    {
     "data": {
      "text/html": [
       "<div>\n",
       "<style scoped>\n",
       "    .dataframe tbody tr th:only-of-type {\n",
       "        vertical-align: middle;\n",
       "    }\n",
       "\n",
       "    .dataframe tbody tr th {\n",
       "        vertical-align: top;\n",
       "    }\n",
       "\n",
       "    .dataframe thead th {\n",
       "        text-align: right;\n",
       "    }\n",
       "</style>\n",
       "<table border=\"1\" class=\"dataframe\">\n",
       "  <thead>\n",
       "    <tr style=\"text-align: right;\">\n",
       "      <th></th>\n",
       "      <th>Popularity</th>\n",
       "      <th>acousticness</th>\n",
       "      <th>danceability</th>\n",
       "      <th>duration_in min/ms</th>\n",
       "      <th>energy</th>\n",
       "      <th>instrumentalness</th>\n",
       "      <th>key</th>\n",
       "      <th>liveness</th>\n",
       "      <th>loudness</th>\n",
       "      <th>mode</th>\n",
       "      <th>speechiness</th>\n",
       "      <th>tempo</th>\n",
       "      <th>time_signature</th>\n",
       "      <th>valence</th>\n",
       "      <th>Class</th>\n",
       "    </tr>\n",
       "  </thead>\n",
       "  <tbody>\n",
       "    <tr>\n",
       "      <th>count</th>\n",
       "      <td>1.181300e+04</td>\n",
       "      <td>1.181300e+04</td>\n",
       "      <td>1.181300e+04</td>\n",
       "      <td>1.181300e+04</td>\n",
       "      <td>1.181300e+04</td>\n",
       "      <td>1.181300e+04</td>\n",
       "      <td>1.181300e+04</td>\n",
       "      <td>1.181300e+04</td>\n",
       "      <td>1.181300e+04</td>\n",
       "      <td>1.181300e+04</td>\n",
       "      <td>1.181300e+04</td>\n",
       "      <td>1.181300e+04</td>\n",
       "      <td>1.181300e+04</td>\n",
       "      <td>1.181300e+04</td>\n",
       "      <td>11813.000000</td>\n",
       "    </tr>\n",
       "    <tr>\n",
       "      <th>mean</th>\n",
       "      <td>1.153665e-16</td>\n",
       "      <td>-1.049501e-15</td>\n",
       "      <td>-1.080767e-14</td>\n",
       "      <td>1.553828e-15</td>\n",
       "      <td>-1.252839e-14</td>\n",
       "      <td>7.439119e-17</td>\n",
       "      <td>1.871393e-16</td>\n",
       "      <td>-5.009979e-15</td>\n",
       "      <td>-2.062639e-15</td>\n",
       "      <td>4.545025e-17</td>\n",
       "      <td>-1.373242e-15</td>\n",
       "      <td>-4.178632e-15</td>\n",
       "      <td>7.892283e-16</td>\n",
       "      <td>-4.922692e-15</td>\n",
       "      <td>6.622619</td>\n",
       "    </tr>\n",
       "    <tr>\n",
       "      <th>std</th>\n",
       "      <td>1.000000e+00</td>\n",
       "      <td>1.000000e+00</td>\n",
       "      <td>1.000000e+00</td>\n",
       "      <td>1.000000e+00</td>\n",
       "      <td>1.000000e+00</td>\n",
       "      <td>1.000000e+00</td>\n",
       "      <td>1.000000e+00</td>\n",
       "      <td>1.000000e+00</td>\n",
       "      <td>1.000000e+00</td>\n",
       "      <td>1.000000e+00</td>\n",
       "      <td>1.000000e+00</td>\n",
       "      <td>1.000000e+00</td>\n",
       "      <td>1.000000e+00</td>\n",
       "      <td>1.000000e+00</td>\n",
       "      <td>3.246656</td>\n",
       "    </tr>\n",
       "    <tr>\n",
       "      <th>min</th>\n",
       "      <td>-2.541006e+00</td>\n",
       "      <td>-7.519165e-01</td>\n",
       "      <td>-2.774152e+00</td>\n",
       "      <td>-1.838005e+00</td>\n",
       "      <td>-2.766068e+00</td>\n",
       "      <td>-5.891537e-01</td>\n",
       "      <td>-1.569948e+00</td>\n",
       "      <td>-1.146816e+00</td>\n",
       "      <td>-6.603843e+00</td>\n",
       "      <td>-1.288118e+00</td>\n",
       "      <td>-7.170990e-01</td>\n",
       "      <td>-3.138596e+00</td>\n",
       "      <td>-7.635305e+00</td>\n",
       "      <td>-1.846898e+00</td>\n",
       "      <td>0.000000</td>\n",
       "    </tr>\n",
       "    <tr>\n",
       "      <th>25%</th>\n",
       "      <td>-6.699853e-01</td>\n",
       "      <td>-7.459944e-01</td>\n",
       "      <td>-6.743106e-01</td>\n",
       "      <td>-3.229143e-01</td>\n",
       "      <td>-6.491510e-01</td>\n",
       "      <td>-5.888407e-01</td>\n",
       "      <td>-9.385051e-01</td>\n",
       "      <td>-6.147117e-01</td>\n",
       "      <td>-4.194167e-01</td>\n",
       "      <td>-1.288118e+00</td>\n",
       "      <td>-5.385883e-01</td>\n",
       "      <td>-7.790334e-01</td>\n",
       "      <td>2.258139e-01</td>\n",
       "      <td>-8.139285e-01</td>\n",
       "      <td>5.000000</td>\n",
       "    </tr>\n",
       "    <tr>\n",
       "      <th>50%</th>\n",
       "      <td>-6.643039e-02</td>\n",
       "      <td>-5.761328e-01</td>\n",
       "      <td>1.238459e-02</td>\n",
       "      <td>4.262537e-02</td>\n",
       "      <td>1.885704e-01</td>\n",
       "      <td>-5.750363e-01</td>\n",
       "      <td>8.659423e-03</td>\n",
       "      <td>-4.262842e-01</td>\n",
       "      <td>2.127062e-01</td>\n",
       "      <td>7.762609e-01</td>\n",
       "      <td>-3.659787e-01</td>\n",
       "      <td>-9.794613e-02</td>\n",
       "      <td>2.258139e-01</td>\n",
       "      <td>-3.317203e-02</td>\n",
       "      <td>8.000000</td>\n",
       "    </tr>\n",
       "    <tr>\n",
       "      <th>75%</th>\n",
       "      <td>6.578356e-01</td>\n",
       "      <td>5.672445e-01</td>\n",
       "      <td>6.810089e-01</td>\n",
       "      <td>4.371147e-01</td>\n",
       "      <td>8.447167e-01</td>\n",
       "      <td>9.877440e-02</td>\n",
       "      <td>9.558239e-01</td>\n",
       "      <td>3.812627e-01</td>\n",
       "      <td>6.780714e-01</td>\n",
       "      <td>7.762609e-01</td>\n",
       "      <td>7.956055e-02</td>\n",
       "      <td>6.438257e-01</td>\n",
       "      <td>2.258139e-01</td>\n",
       "      <td>7.761985e-01</td>\n",
       "      <td>10.000000</td>\n",
       "    </tr>\n",
       "    <tr>\n",
       "      <th>max</th>\n",
       "      <td>3.313477e+00</td>\n",
       "      <td>2.368949e+00</td>\n",
       "      <td>2.795307e+00</td>\n",
       "      <td>1.091218e+01</td>\n",
       "      <td>1.360555e+00</td>\n",
       "      <td>2.689215e+00</td>\n",
       "      <td>1.587267e+00</td>\n",
       "      <td>4.988661e+00</td>\n",
       "      <td>2.257435e+00</td>\n",
       "      <td>7.762609e-01</td>\n",
       "      <td>1.274497e+01</td>\n",
       "      <td>3.210483e+00</td>\n",
       "      <td>2.846187e+00</td>\n",
       "      <td>2.084272e+00</td>\n",
       "      <td>10.000000</td>\n",
       "    </tr>\n",
       "  </tbody>\n",
       "</table>\n",
       "</div>"
      ],
      "text/plain": [
       "         Popularity  acousticness  danceability  duration_in min/ms  \\\n",
       "count  1.181300e+04  1.181300e+04  1.181300e+04        1.181300e+04   \n",
       "mean   1.153665e-16 -1.049501e-15 -1.080767e-14        1.553828e-15   \n",
       "std    1.000000e+00  1.000000e+00  1.000000e+00        1.000000e+00   \n",
       "min   -2.541006e+00 -7.519165e-01 -2.774152e+00       -1.838005e+00   \n",
       "25%   -6.699853e-01 -7.459944e-01 -6.743106e-01       -3.229143e-01   \n",
       "50%   -6.643039e-02 -5.761328e-01  1.238459e-02        4.262537e-02   \n",
       "75%    6.578356e-01  5.672445e-01  6.810089e-01        4.371147e-01   \n",
       "max    3.313477e+00  2.368949e+00  2.795307e+00        1.091218e+01   \n",
       "\n",
       "             energy  instrumentalness           key      liveness  \\\n",
       "count  1.181300e+04      1.181300e+04  1.181300e+04  1.181300e+04   \n",
       "mean  -1.252839e-14      7.439119e-17  1.871393e-16 -5.009979e-15   \n",
       "std    1.000000e+00      1.000000e+00  1.000000e+00  1.000000e+00   \n",
       "min   -2.766068e+00     -5.891537e-01 -1.569948e+00 -1.146816e+00   \n",
       "25%   -6.491510e-01     -5.888407e-01 -9.385051e-01 -6.147117e-01   \n",
       "50%    1.885704e-01     -5.750363e-01  8.659423e-03 -4.262842e-01   \n",
       "75%    8.447167e-01      9.877440e-02  9.558239e-01  3.812627e-01   \n",
       "max    1.360555e+00      2.689215e+00  1.587267e+00  4.988661e+00   \n",
       "\n",
       "           loudness          mode   speechiness         tempo  time_signature  \\\n",
       "count  1.181300e+04  1.181300e+04  1.181300e+04  1.181300e+04    1.181300e+04   \n",
       "mean  -2.062639e-15  4.545025e-17 -1.373242e-15 -4.178632e-15    7.892283e-16   \n",
       "std    1.000000e+00  1.000000e+00  1.000000e+00  1.000000e+00    1.000000e+00   \n",
       "min   -6.603843e+00 -1.288118e+00 -7.170990e-01 -3.138596e+00   -7.635305e+00   \n",
       "25%   -4.194167e-01 -1.288118e+00 -5.385883e-01 -7.790334e-01    2.258139e-01   \n",
       "50%    2.127062e-01  7.762609e-01 -3.659787e-01 -9.794613e-02    2.258139e-01   \n",
       "75%    6.780714e-01  7.762609e-01  7.956055e-02  6.438257e-01    2.258139e-01   \n",
       "max    2.257435e+00  7.762609e-01  1.274497e+01  3.210483e+00    2.846187e+00   \n",
       "\n",
       "            valence         Class  \n",
       "count  1.181300e+04  11813.000000  \n",
       "mean  -4.922692e-15      6.622619  \n",
       "std    1.000000e+00      3.246656  \n",
       "min   -1.846898e+00      0.000000  \n",
       "25%   -8.139285e-01      5.000000  \n",
       "50%   -3.317203e-02      8.000000  \n",
       "75%    7.761985e-01     10.000000  \n",
       "max    2.084272e+00     10.000000  "
      ]
     },
     "execution_count": 74,
     "metadata": {},
     "output_type": "execute_result"
    }
   ],
   "source": [
    "data.describe()"
   ]
  },
  {
   "cell_type": "markdown",
   "id": "9f1ee2a6",
   "metadata": {},
   "source": [
    "# Отбор признаков"
   ]
  },
  {
   "cell_type": "markdown",
   "id": "3259170d",
   "metadata": {},
   "source": [
    "Для предсказания жанра музыки будедет использовать все признаки кроме Artist Name и Track Name"
   ]
  },
  {
   "cell_type": "code",
   "execution_count": 75,
   "id": "08c5d805",
   "metadata": {},
   "outputs": [],
   "source": [
    "X = data.drop(['Class',\"Artist Name\",\"Track Name\"],axis=1)\n",
    "y = data[\"Class\"]\n",
    "X = X.to_numpy()\n",
    "y = y.to_numpy()"
   ]
  },
  {
   "cell_type": "markdown",
   "id": "44065230",
   "metadata": {},
   "source": [
    "Разобьем данные на обучающую и тестовую выборки в пропорции 3:1 (75% - обучающая выборка, 25% - тестовая):"
   ]
  },
  {
   "cell_type": "code",
   "execution_count": 76,
   "id": "740f69fc",
   "metadata": {
    "scrolled": true
   },
   "outputs": [
    {
     "name": "stdout",
     "output_type": "stream",
     "text": [
      "8859 2954\n"
     ]
    }
   ],
   "source": [
    "from sklearn.model_selection import train_test_split\n",
    "X_train, X_test, y_train, y_test = train_test_split(X, y, test_size = 0.25, random_state = 45)\n",
    "\n",
    "N_train, _ = X_train.shape \n",
    "N_test,  _ = X_test.shape \n",
    "\n",
    "print(N_train, N_test)"
   ]
  },
  {
   "cell_type": "code",
   "execution_count": 77,
   "id": "d4c0ea84",
   "metadata": {},
   "outputs": [],
   "source": [
    "from sklearn.neural_network import MLPClassifier\n",
    "\n",
    "mlp_model = MLPClassifier(hidden_layer_sizes = (20,),\n",
    "                          solver = 'lbfgs', \n",
    "                          activation = 'logistic',\n",
    "                          max_iter=200000,\n",
    "                          random_state = 42,\n",
    "                          verbose=10)"
   ]
  },
  {
   "cell_type": "code",
   "execution_count": 78,
   "id": "7b929204",
   "metadata": {
    "scrolled": false
   },
   "outputs": [
    {
     "name": "stdout",
     "output_type": "stream",
     "text": [
      "Wall time: 1min 42s\n"
     ]
    },
    {
     "data": {
      "text/plain": [
       "MLPClassifier(activation='logistic', hidden_layer_sizes=(20,), max_iter=200000,\n",
       "              random_state=42, solver='lbfgs', verbose=10)"
      ]
     },
     "execution_count": 78,
     "metadata": {},
     "output_type": "execute_result"
    }
   ],
   "source": [
    "%%time\n",
    "mlp_model.fit(X_train, y_train)"
   ]
  },
  {
   "cell_type": "markdown",
   "id": "07184e7f",
   "metadata": {},
   "source": [
    "# Ошибка на тестовой выборке"
   ]
  },
  {
   "cell_type": "code",
   "execution_count": 79,
   "id": "69dd96cf",
   "metadata": {},
   "outputs": [
    {
     "data": {
      "text/plain": [
       "0.45546901456146294"
      ]
     },
     "execution_count": 79,
     "metadata": {},
     "output_type": "execute_result"
    }
   ],
   "source": [
    "y_train_predict = mlp_model.predict(X_train)\n",
    "err_train  = np.mean(y_train  != y_train_predict)\n",
    "err_train"
   ]
  },
  {
   "cell_type": "code",
   "execution_count": 80,
   "id": "4039dc1f",
   "metadata": {},
   "outputs": [
    {
     "data": {
      "text/plain": [
       "0.4969532836831415"
      ]
     },
     "execution_count": 80,
     "metadata": {},
     "output_type": "execute_result"
    }
   ],
   "source": [
    "y_test_predict = mlp_model.predict(X_test)\n",
    "err_test  = np.mean(y_test  != y_test_predict)\n",
    "err_test"
   ]
  },
  {
   "cell_type": "markdown",
   "id": "d27d1fb4",
   "metadata": {},
   "source": [
    "Ошибка на выборках немного меньше чем ошибка в методе k - ближайших соседей, однако результат все так же неудовлетворительный"
   ]
  },
  {
   "cell_type": "code",
   "execution_count": 81,
   "id": "814bb7d0",
   "metadata": {},
   "outputs": [
    {
     "data": {
      "image/png": "[encoded data removed]",
      "text/plain": [
       "<Figure size 720x432 with 2 Axes>"
      ]
     },
     "metadata": {
      "needs_background": "light"
     },
     "output_type": "display_data"
    }
   ],
   "source": [
    "from sklearn.metrics import confusion_matrix, f1_score\n",
    "plt.figure(figsize=(10,6))\n",
    "x=sns.heatmap(confusion_matrix(y_test, y_test_predict),annot=True, fmt='0.1f')\n",
    "plt.show()"
   ]
  },
  {
   "cell_type": "markdown",
   "id": "7b0462d3",
   "metadata": {},
   "source": [
    "Поменяем задачу будет пытаться определить относится ли музыка категории РОК / МЕТАЛ / АЛЬТЕРНАТИВ или любая другая. Сведем задачу к бинарной классификации"
   ]
  },
  {
   "cell_type": "code",
   "execution_count": 82,
   "id": "4b5b7f7d",
   "metadata": {},
   "outputs": [],
   "source": [
    "data['Class'] = data['Class'].apply(lambda x: 1 if x == 8 or x== 10 or x == 1 else 0)"
   ]
  },
  {
   "cell_type": "markdown",
   "id": "565ea9bd",
   "metadata": {},
   "source": [
    "# Обучение полносвязной нейронной сети\n",
    "## 1 скрытый слой"
   ]
  },
  {
   "cell_type": "code",
   "execution_count": 83,
   "id": "77e6cee6",
   "metadata": {},
   "outputs": [],
   "source": [
    "X = data.drop(['Class',\"Artist Name\",\"Track Name\"],axis=1)\n",
    "y = data[\"Class\"]\n",
    "X = X.to_numpy()\n",
    "y = y.to_numpy()"
   ]
  },
  {
   "cell_type": "code",
   "execution_count": 84,
   "id": "e9fec992",
   "metadata": {},
   "outputs": [
    {
     "name": "stdout",
     "output_type": "stream",
     "text": [
      "8859 2954 [1 0 1 ... 1 1 1]\n"
     ]
    }
   ],
   "source": [
    "from sklearn.model_selection import train_test_split\n",
    "X_train, X_test, y_train, y_test = train_test_split(X, y, test_size = 0.25, random_state = 45)\n",
    "\n",
    "N_train, _ = X_train.shape \n",
    "N_test,  _ = X_test.shape \n",
    "\n",
    "print(N_train, N_test,y)"
   ]
  },
  {
   "cell_type": "code",
   "execution_count": 85,
   "id": "ad384ebe",
   "metadata": {},
   "outputs": [],
   "source": [
    "from sklearn.neural_network import MLPClassifier\n",
    "\n",
    "mlp_model = MLPClassifier(hidden_layer_sizes = (50,),\n",
    "                          solver = 'adam', \n",
    "                          activation = 'logistic',\n",
    "                          max_iter=2000,\n",
    "                          random_state = 42,\n",
    "                          verbose=1)"
   ]
  },
  {
   "cell_type": "code",
   "execution_count": null,
   "id": "ab447b7e",
   "metadata": {},
   "outputs": [],
   "source": []
  },
  {
   "cell_type": "code",
   "execution_count": 87,
   "id": "7666fb97",
   "metadata": {},
   "outputs": [
    {
     "name": "stdout",
     "output_type": "stream",
     "text": [
      "Iteration 1, loss = 0.66781808\n",
      "Iteration 2, loss = 0.62013727\n",
      "Iteration 3, loss = 0.58447786\n",
      "Iteration 4, loss = 0.56072888\n",
      "Iteration 5, loss = 0.54730952\n",
      "Iteration 6, loss = 0.53999777\n",
      "Iteration 7, loss = 0.53678455\n",
      "Iteration 8, loss = 0.53356688\n",
      "Iteration 9, loss = 0.53192143\n",
      "Iteration 10, loss = 0.53080581\n",
      "Iteration 11, loss = 0.53022421\n",
      "Iteration 12, loss = 0.52949915\n",
      "Iteration 13, loss = 0.52883683\n",
      "Iteration 14, loss = 0.52840219\n",
      "Iteration 15, loss = 0.52816885\n",
      "Iteration 16, loss = 0.52777709\n",
      "Iteration 17, loss = 0.52763596\n",
      "Iteration 18, loss = 0.52756182\n",
      "Iteration 19, loss = 0.52717815\n",
      "Iteration 20, loss = 0.52710576\n",
      "Iteration 21, loss = 0.52703921\n",
      "Iteration 22, loss = 0.52700663\n",
      "Iteration 23, loss = 0.52690200\n",
      "Iteration 24, loss = 0.52688829\n",
      "Iteration 25, loss = 0.52674411\n",
      "Iteration 26, loss = 0.52689932\n",
      "Iteration 27, loss = 0.52638541\n",
      "Iteration 28, loss = 0.52626702\n",
      "Iteration 29, loss = 0.52632045\n",
      "Iteration 30, loss = 0.52610580\n",
      "Iteration 31, loss = 0.52616946\n",
      "Iteration 32, loss = 0.52609766\n",
      "Iteration 33, loss = 0.52598668\n",
      "Iteration 34, loss = 0.52588259\n",
      "Iteration 35, loss = 0.52585362\n",
      "Iteration 36, loss = 0.52589954\n",
      "Iteration 37, loss = 0.52577162\n",
      "Iteration 38, loss = 0.52587301\n",
      "Iteration 39, loss = 0.52537427\n",
      "Iteration 40, loss = 0.52546670\n",
      "Iteration 41, loss = 0.52561926\n",
      "Iteration 42, loss = 0.52534458\n",
      "Iteration 43, loss = 0.52540980\n",
      "Iteration 44, loss = 0.52556071\n",
      "Iteration 45, loss = 0.52499545\n",
      "Iteration 46, loss = 0.52497037\n",
      "Iteration 47, loss = 0.52501081\n",
      "Iteration 48, loss = 0.52478418\n",
      "Iteration 49, loss = 0.52503214\n",
      "Iteration 50, loss = 0.52478637\n",
      "Iteration 51, loss = 0.52462741\n",
      "Iteration 52, loss = 0.52472687\n",
      "Iteration 53, loss = 0.52422684\n",
      "Iteration 54, loss = 0.52417029\n",
      "Iteration 55, loss = 0.52399766\n",
      "Iteration 56, loss = 0.52376783\n",
      "Iteration 57, loss = 0.52388154\n",
      "Iteration 58, loss = 0.52370627\n",
      "Iteration 59, loss = 0.52346130\n",
      "Iteration 60, loss = 0.52314702\n",
      "Iteration 61, loss = 0.52374859\n",
      "Iteration 62, loss = 0.52308898\n",
      "Iteration 63, loss = 0.52299246\n",
      "Iteration 64, loss = 0.52289697\n",
      "Iteration 65, loss = 0.52269533\n",
      "Iteration 66, loss = 0.52255077\n",
      "Iteration 67, loss = 0.52227009\n",
      "Iteration 68, loss = 0.52228702\n",
      "Iteration 69, loss = 0.52260032\n",
      "Iteration 70, loss = 0.52219873\n",
      "Iteration 71, loss = 0.52191990\n",
      "Iteration 72, loss = 0.52138809\n",
      "Iteration 73, loss = 0.52140589\n",
      "Iteration 74, loss = 0.52144258\n",
      "Iteration 75, loss = 0.52116942\n",
      "Iteration 76, loss = 0.52081564\n",
      "Iteration 77, loss = 0.52067989\n",
      "Iteration 78, loss = 0.52046629\n",
      "Iteration 79, loss = 0.52019135\n",
      "Iteration 80, loss = 0.51999327\n",
      "Iteration 81, loss = 0.51984082\n",
      "Iteration 82, loss = 0.52009994\n",
      "Iteration 83, loss = 0.51930608\n",
      "Iteration 84, loss = 0.51918513\n",
      "Iteration 85, loss = 0.51888189\n",
      "Iteration 86, loss = 0.51931476\n",
      "Iteration 87, loss = 0.51865341\n",
      "Iteration 88, loss = 0.51829051\n",
      "Iteration 89, loss = 0.51814480\n",
      "Iteration 90, loss = 0.51795602\n",
      "Iteration 91, loss = 0.51767138\n",
      "Iteration 92, loss = 0.51740717\n",
      "Iteration 93, loss = 0.51747719\n",
      "Iteration 94, loss = 0.51682731\n",
      "Iteration 95, loss = 0.51683859\n",
      "Iteration 96, loss = 0.51662423\n",
      "Iteration 97, loss = 0.51632440\n",
      "Iteration 98, loss = 0.51594710\n",
      "Iteration 99, loss = 0.51603152\n",
      "Iteration 100, loss = 0.51547594\n",
      "Iteration 101, loss = 0.51547931\n",
      "Iteration 102, loss = 0.51511564\n",
      "Iteration 103, loss = 0.51463003\n",
      "Iteration 104, loss = 0.51512503\n",
      "Iteration 105, loss = 0.51423772\n",
      "Iteration 106, loss = 0.51374084\n",
      "Iteration 107, loss = 0.51370374\n",
      "Iteration 108, loss = 0.51367751\n",
      "Iteration 109, loss = 0.51315803\n",
      "Iteration 110, loss = 0.51281249\n",
      "Iteration 111, loss = 0.51275911\n",
      "Iteration 112, loss = 0.51243533\n",
      "Iteration 113, loss = 0.51204943\n",
      "Iteration 114, loss = 0.51177332\n",
      "Iteration 115, loss = 0.51153136\n",
      "Iteration 116, loss = 0.51124204\n",
      "Iteration 117, loss = 0.51089121\n",
      "Iteration 118, loss = 0.51086276\n",
      "Iteration 119, loss = 0.51046451\n",
      "Iteration 120, loss = 0.51022493\n",
      "Iteration 121, loss = 0.50978805\n",
      "Iteration 122, loss = 0.50966555\n",
      "Iteration 123, loss = 0.50955649\n",
      "Iteration 124, loss = 0.50900030\n",
      "Iteration 125, loss = 0.50894093\n",
      "Iteration 126, loss = 0.50846856\n",
      "Iteration 127, loss = 0.50826995\n",
      "Iteration 128, loss = 0.50812041\n",
      "Iteration 129, loss = 0.50776841\n",
      "Iteration 130, loss = 0.50752468\n",
      "Iteration 131, loss = 0.50711320\n",
      "Iteration 132, loss = 0.50694640\n",
      "Iteration 133, loss = 0.50684462\n",
      "Iteration 134, loss = 0.50641171\n",
      "Iteration 135, loss = 0.50625472\n",
      "Iteration 136, loss = 0.50591223\n",
      "Iteration 137, loss = 0.50551598\n",
      "Iteration 138, loss = 0.50532469\n",
      "Iteration 139, loss = 0.50540969\n",
      "Iteration 140, loss = 0.50494477\n",
      "Iteration 141, loss = 0.50490018\n",
      "Iteration 142, loss = 0.50435853\n",
      "Iteration 143, loss = 0.50413191\n",
      "Iteration 144, loss = 0.50412224\n",
      "Iteration 145, loss = 0.50370048\n",
      "Iteration 146, loss = 0.50375659\n",
      "Iteration 147, loss = 0.50330914\n",
      "Iteration 148, loss = 0.50297679\n",
      "Iteration 149, loss = 0.50300724\n",
      "Iteration 150, loss = 0.50249976\n",
      "Iteration 151, loss = 0.50334635\n",
      "Iteration 152, loss = 0.50245819\n",
      "Iteration 153, loss = 0.50234175\n",
      "Iteration 154, loss = 0.50184457\n",
      "Iteration 155, loss = 0.50165598\n",
      "Iteration 156, loss = 0.50164397\n",
      "Iteration 157, loss = 0.50098522\n",
      "Iteration 158, loss = 0.50104600\n",
      "Iteration 159, loss = 0.50062480\n",
      "Iteration 160, loss = 0.50054231\n",
      "Iteration 161, loss = 0.50039654\n",
      "Iteration 162, loss = 0.50002076\n",
      "Iteration 163, loss = 0.50003700\n",
      "Iteration 164, loss = 0.50004604\n",
      "Iteration 165, loss = 0.49965863\n",
      "Iteration 166, loss = 0.49954060\n",
      "Iteration 167, loss = 0.49922198\n",
      "Iteration 168, loss = 0.49896005\n",
      "Iteration 169, loss = 0.49883665\n",
      "Iteration 170, loss = 0.49850253\n",
      "Iteration 171, loss = 0.49858553\n",
      "Iteration 172, loss = 0.49813079\n",
      "Iteration 173, loss = 0.49802339\n",
      "Iteration 174, loss = 0.49794301\n",
      "Iteration 175, loss = 0.49777713\n",
      "Iteration 176, loss = 0.49771684\n",
      "Iteration 177, loss = 0.49761133\n",
      "Iteration 178, loss = 0.49724327\n",
      "Iteration 179, loss = 0.49697821\n",
      "Iteration 180, loss = 0.49680020\n",
      "Iteration 181, loss = 0.49668947\n",
      "Iteration 182, loss = 0.49651348\n",
      "Iteration 183, loss = 0.49671480\n",
      "Iteration 184, loss = 0.49629617\n",
      "Iteration 185, loss = 0.49585131\n",
      "Iteration 186, loss = 0.49573706\n",
      "Iteration 187, loss = 0.49592748\n",
      "Iteration 188, loss = 0.49553778\n",
      "Iteration 189, loss = 0.49521965\n",
      "Iteration 190, loss = 0.49506534\n",
      "Iteration 191, loss = 0.49474053\n",
      "Iteration 192, loss = 0.49466381\n",
      "Iteration 193, loss = 0.49476219\n",
      "Iteration 194, loss = 0.49435094\n",
      "Iteration 195, loss = 0.49489408\n",
      "Iteration 196, loss = 0.49410249\n",
      "Iteration 197, loss = 0.49369209\n",
      "Iteration 198, loss = 0.49419083\n",
      "Iteration 199, loss = 0.49359792\n",
      "Iteration 200, loss = 0.49321721\n",
      "Iteration 201, loss = 0.49319109\n",
      "Iteration 202, loss = 0.49334715\n",
      "Iteration 203, loss = 0.49266228\n",
      "Iteration 204, loss = 0.49257384\n",
      "Iteration 205, loss = 0.49234682\n",
      "Iteration 206, loss = 0.49241991\n",
      "Iteration 207, loss = 0.49212505\n",
      "Iteration 208, loss = 0.49196377\n",
      "Iteration 209, loss = 0.49181772\n",
      "Iteration 210, loss = 0.49154340\n",
      "Iteration 211, loss = 0.49157361\n",
      "Iteration 212, loss = 0.49121144\n",
      "Iteration 213, loss = 0.49103248\n",
      "Iteration 214, loss = 0.49087175\n",
      "Iteration 215, loss = 0.49081442\n",
      "Iteration 216, loss = 0.49066508\n",
      "Iteration 217, loss = 0.49042153\n",
      "Iteration 218, loss = 0.49012374\n",
      "Iteration 219, loss = 0.49006070\n",
      "Iteration 220, loss = 0.48984360\n",
      "Iteration 221, loss = 0.48972820\n",
      "Iteration 222, loss = 0.48942827\n",
      "Iteration 223, loss = 0.48934728\n",
      "Iteration 224, loss = 0.48922782\n",
      "Iteration 225, loss = 0.48879304\n",
      "Iteration 226, loss = 0.48874466\n",
      "Iteration 227, loss = 0.48841578\n",
      "Iteration 228, loss = 0.48835754\n",
      "Iteration 229, loss = 0.48810734\n",
      "Iteration 230, loss = 0.48847048\n",
      "Iteration 231, loss = 0.48793890\n",
      "Iteration 232, loss = 0.48764903\n",
      "Iteration 233, loss = 0.48771125\n",
      "Iteration 234, loss = 0.48773455\n",
      "Iteration 235, loss = 0.48707491\n",
      "Iteration 236, loss = 0.48697115\n",
      "Iteration 237, loss = 0.48679682\n",
      "Iteration 238, loss = 0.48682699\n",
      "Iteration 239, loss = 0.48634692\n",
      "Iteration 240, loss = 0.48622894\n",
      "Iteration 241, loss = 0.48609604\n",
      "Iteration 242, loss = 0.48594136\n",
      "Iteration 243, loss = 0.48577400\n",
      "Iteration 244, loss = 0.48564660\n",
      "Iteration 245, loss = 0.48534096\n",
      "Iteration 246, loss = 0.48548662\n",
      "Iteration 247, loss = 0.48505286\n",
      "Iteration 248, loss = 0.48476225\n",
      "Iteration 249, loss = 0.48502704\n",
      "Iteration 250, loss = 0.48476160\n",
      "Iteration 251, loss = 0.48454794\n",
      "Iteration 252, loss = 0.48433289\n"
     ]
    },
    {
     "name": "stdout",
     "output_type": "stream",
     "text": [
      "Iteration 253, loss = 0.48442774\n",
      "Iteration 254, loss = 0.48379148\n",
      "Iteration 255, loss = 0.48415328\n",
      "Iteration 256, loss = 0.48366227\n",
      "Iteration 257, loss = 0.48358170\n",
      "Iteration 258, loss = 0.48309215\n",
      "Iteration 259, loss = 0.48306952\n",
      "Iteration 260, loss = 0.48288066\n",
      "Iteration 261, loss = 0.48269132\n",
      "Iteration 262, loss = 0.48246297\n",
      "Iteration 263, loss = 0.48224559\n",
      "Iteration 264, loss = 0.48226942\n",
      "Iteration 265, loss = 0.48231120\n",
      "Iteration 266, loss = 0.48179664\n",
      "Iteration 267, loss = 0.48178219\n",
      "Iteration 268, loss = 0.48184586\n",
      "Iteration 269, loss = 0.48142025\n",
      "Iteration 270, loss = 0.48122828\n",
      "Iteration 271, loss = 0.48122530\n",
      "Iteration 272, loss = 0.48099014\n",
      "Iteration 273, loss = 0.48089164\n",
      "Iteration 274, loss = 0.48076861\n",
      "Iteration 275, loss = 0.48062037\n",
      "Iteration 276, loss = 0.48057483\n",
      "Iteration 277, loss = 0.48024788\n",
      "Iteration 278, loss = 0.48017919\n",
      "Iteration 279, loss = 0.47984880\n",
      "Iteration 280, loss = 0.47988864\n",
      "Iteration 281, loss = 0.47975748\n",
      "Iteration 282, loss = 0.47979144\n",
      "Iteration 283, loss = 0.47950316\n",
      "Iteration 284, loss = 0.47930915\n",
      "Iteration 285, loss = 0.47935837\n",
      "Iteration 286, loss = 0.47893247\n",
      "Iteration 287, loss = 0.47907932\n",
      "Iteration 288, loss = 0.47887927\n",
      "Iteration 289, loss = 0.47869713\n",
      "Iteration 290, loss = 0.47869783\n",
      "Iteration 291, loss = 0.47838558\n",
      "Iteration 292, loss = 0.47816244\n",
      "Iteration 293, loss = 0.47822942\n",
      "Iteration 294, loss = 0.47786882\n",
      "Iteration 295, loss = 0.47809053\n",
      "Iteration 296, loss = 0.47781175\n",
      "Iteration 297, loss = 0.47784777\n",
      "Iteration 298, loss = 0.47758484\n",
      "Iteration 299, loss = 0.47742348\n",
      "Iteration 300, loss = 0.47724309\n",
      "Iteration 301, loss = 0.47701084\n",
      "Iteration 302, loss = 0.47697043\n",
      "Iteration 303, loss = 0.47695842\n",
      "Iteration 304, loss = 0.47657148\n",
      "Iteration 305, loss = 0.47660765\n",
      "Iteration 306, loss = 0.47660125\n",
      "Iteration 307, loss = 0.47634509\n",
      "Iteration 308, loss = 0.47644846\n",
      "Iteration 309, loss = 0.47620269\n",
      "Iteration 310, loss = 0.47589078\n",
      "Iteration 311, loss = 0.47563264\n",
      "Iteration 312, loss = 0.47600587\n",
      "Iteration 313, loss = 0.47570643\n",
      "Iteration 314, loss = 0.47549882\n",
      "Iteration 315, loss = 0.47602602\n",
      "Iteration 316, loss = 0.47525519\n",
      "Iteration 317, loss = 0.47506991\n",
      "Iteration 318, loss = 0.47495359\n",
      "Iteration 319, loss = 0.47499208\n",
      "Iteration 320, loss = 0.47494833\n",
      "Iteration 321, loss = 0.47485867\n",
      "Iteration 322, loss = 0.47454570\n",
      "Iteration 323, loss = 0.47446605\n",
      "Iteration 324, loss = 0.47425275\n",
      "Iteration 325, loss = 0.47424812\n",
      "Iteration 326, loss = 0.47426356\n",
      "Iteration 327, loss = 0.47428334\n",
      "Iteration 328, loss = 0.47459240\n",
      "Iteration 329, loss = 0.47393864\n",
      "Iteration 330, loss = 0.47383998\n",
      "Iteration 331, loss = 0.47359150\n",
      "Iteration 332, loss = 0.47352860\n",
      "Iteration 333, loss = 0.47335644\n",
      "Iteration 334, loss = 0.47323438\n",
      "Iteration 335, loss = 0.47331447\n",
      "Iteration 336, loss = 0.47322494\n",
      "Iteration 337, loss = 0.47309711\n",
      "Iteration 338, loss = 0.47288762\n",
      "Iteration 339, loss = 0.47278755\n",
      "Iteration 340, loss = 0.47270075\n",
      "Iteration 341, loss = 0.47228235\n",
      "Iteration 342, loss = 0.47248950\n",
      "Iteration 343, loss = 0.47242721\n",
      "Iteration 344, loss = 0.47223734\n",
      "Iteration 345, loss = 0.47210644\n",
      "Iteration 346, loss = 0.47182414\n",
      "Iteration 347, loss = 0.47192001\n",
      "Iteration 348, loss = 0.47185326\n",
      "Iteration 349, loss = 0.47204367\n",
      "Iteration 350, loss = 0.47155487\n",
      "Iteration 351, loss = 0.47137945\n",
      "Iteration 352, loss = 0.47126986\n",
      "Iteration 353, loss = 0.47107866\n",
      "Iteration 354, loss = 0.47104734\n",
      "Iteration 355, loss = 0.47094937\n",
      "Iteration 356, loss = 0.47085684\n",
      "Iteration 357, loss = 0.47120355\n",
      "Iteration 358, loss = 0.47073895\n",
      "Iteration 359, loss = 0.47052826\n",
      "Iteration 360, loss = 0.47091550\n",
      "Iteration 361, loss = 0.47057896\n",
      "Iteration 362, loss = 0.47072069\n",
      "Iteration 363, loss = 0.47012714\n",
      "Iteration 364, loss = 0.47031305\n",
      "Iteration 365, loss = 0.47004934\n",
      "Iteration 366, loss = 0.46993208\n",
      "Iteration 367, loss = 0.46993360\n",
      "Iteration 368, loss = 0.46961388\n",
      "Iteration 369, loss = 0.46949998\n",
      "Iteration 370, loss = 0.46958011\n",
      "Iteration 371, loss = 0.46931483\n",
      "Iteration 372, loss = 0.46947237\n",
      "Iteration 373, loss = 0.46948855\n",
      "Iteration 374, loss = 0.46904574\n",
      "Iteration 375, loss = 0.46889993\n",
      "Iteration 376, loss = 0.46916369\n",
      "Iteration 377, loss = 0.46883696\n",
      "Iteration 378, loss = 0.46872491\n",
      "Iteration 379, loss = 0.46844261\n",
      "Iteration 380, loss = 0.46917684\n",
      "Iteration 381, loss = 0.46826509\n",
      "Iteration 382, loss = 0.46857646\n",
      "Iteration 383, loss = 0.46830409\n",
      "Iteration 384, loss = 0.46849585\n",
      "Iteration 385, loss = 0.46805005\n",
      "Iteration 386, loss = 0.46785468\n",
      "Iteration 387, loss = 0.46836624\n",
      "Iteration 388, loss = 0.46761136\n",
      "Iteration 389, loss = 0.46766468\n",
      "Iteration 390, loss = 0.46756328\n",
      "Iteration 391, loss = 0.46778420\n",
      "Iteration 392, loss = 0.46741621\n",
      "Iteration 393, loss = 0.46730991\n",
      "Iteration 394, loss = 0.46751762\n",
      "Iteration 395, loss = 0.46714904\n",
      "Iteration 396, loss = 0.46693117\n",
      "Iteration 397, loss = 0.46691600\n",
      "Iteration 398, loss = 0.46673509\n",
      "Iteration 399, loss = 0.46660912\n",
      "Iteration 400, loss = 0.46683594\n",
      "Iteration 401, loss = 0.46642048\n",
      "Iteration 402, loss = 0.46634689\n",
      "Iteration 403, loss = 0.46628441\n",
      "Iteration 404, loss = 0.46614565\n",
      "Iteration 405, loss = 0.46646889\n",
      "Iteration 406, loss = 0.46636855\n",
      "Iteration 407, loss = 0.46587977\n",
      "Iteration 408, loss = 0.46558683\n",
      "Iteration 409, loss = 0.46567309\n",
      "Iteration 410, loss = 0.46563895\n",
      "Iteration 411, loss = 0.46532595\n",
      "Iteration 412, loss = 0.46549473\n",
      "Iteration 413, loss = 0.46528914\n",
      "Iteration 414, loss = 0.46544729\n",
      "Iteration 415, loss = 0.46521813\n",
      "Iteration 416, loss = 0.46517094\n",
      "Iteration 417, loss = 0.46464443\n",
      "Iteration 418, loss = 0.46518190\n",
      "Iteration 419, loss = 0.46489460\n",
      "Iteration 420, loss = 0.46476825\n",
      "Iteration 421, loss = 0.46457194\n",
      "Iteration 422, loss = 0.46457858\n",
      "Iteration 423, loss = 0.46410768\n",
      "Iteration 424, loss = 0.46424835\n",
      "Iteration 425, loss = 0.46451822\n",
      "Iteration 426, loss = 0.46385831\n",
      "Iteration 427, loss = 0.46411830\n",
      "Iteration 428, loss = 0.46416710\n",
      "Iteration 429, loss = 0.46378745\n",
      "Iteration 430, loss = 0.46360918\n",
      "Iteration 431, loss = 0.46358627\n",
      "Iteration 432, loss = 0.46334010\n",
      "Iteration 433, loss = 0.46322109\n",
      "Iteration 434, loss = 0.46344181\n",
      "Iteration 435, loss = 0.46327203\n",
      "Iteration 436, loss = 0.46288986\n",
      "Iteration 437, loss = 0.46324120\n",
      "Iteration 438, loss = 0.46325233\n",
      "Iteration 439, loss = 0.46278437\n",
      "Iteration 440, loss = 0.46281218\n",
      "Iteration 441, loss = 0.46273575\n",
      "Iteration 442, loss = 0.46249988\n",
      "Iteration 443, loss = 0.46229579\n",
      "Iteration 444, loss = 0.46239326\n",
      "Iteration 445, loss = 0.46217374\n",
      "Iteration 446, loss = 0.46245999\n",
      "Iteration 447, loss = 0.46226714\n",
      "Iteration 448, loss = 0.46184479\n",
      "Iteration 449, loss = 0.46195942\n",
      "Iteration 450, loss = 0.46148121\n",
      "Iteration 451, loss = 0.46187640\n",
      "Iteration 452, loss = 0.46155592\n",
      "Iteration 453, loss = 0.46161233\n",
      "Iteration 454, loss = 0.46137916\n",
      "Iteration 455, loss = 0.46150892\n",
      "Iteration 456, loss = 0.46126521\n",
      "Iteration 457, loss = 0.46115713\n",
      "Iteration 458, loss = 0.46089740\n",
      "Iteration 459, loss = 0.46113838\n",
      "Iteration 460, loss = 0.46137096\n",
      "Iteration 461, loss = 0.46081125\n",
      "Iteration 462, loss = 0.46070472\n",
      "Iteration 463, loss = 0.46037971\n",
      "Iteration 464, loss = 0.46046498\n",
      "Iteration 465, loss = 0.46030926\n",
      "Iteration 466, loss = 0.46030534\n",
      "Iteration 467, loss = 0.46004051\n",
      "Iteration 468, loss = 0.45999677\n",
      "Iteration 469, loss = 0.45978362\n",
      "Iteration 470, loss = 0.45983976\n",
      "Iteration 471, loss = 0.45981963\n",
      "Iteration 472, loss = 0.45966119\n",
      "Iteration 473, loss = 0.45966024\n",
      "Iteration 474, loss = 0.45946755\n",
      "Iteration 475, loss = 0.45948020\n",
      "Iteration 476, loss = 0.45926562\n",
      "Iteration 477, loss = 0.45902321\n",
      "Iteration 478, loss = 0.45930196\n",
      "Iteration 479, loss = 0.45912334\n",
      "Iteration 480, loss = 0.45908743\n",
      "Iteration 481, loss = 0.45893509\n",
      "Iteration 482, loss = 0.45895534\n",
      "Iteration 483, loss = 0.45871510\n",
      "Iteration 484, loss = 0.45853909\n",
      "Iteration 485, loss = 0.45833537\n",
      "Iteration 486, loss = 0.45825910\n",
      "Iteration 487, loss = 0.45831436\n",
      "Iteration 488, loss = 0.45824075\n",
      "Iteration 489, loss = 0.45814123\n",
      "Iteration 490, loss = 0.45823097\n",
      "Iteration 491, loss = 0.45788018\n",
      "Iteration 492, loss = 0.45775635\n",
      "Iteration 493, loss = 0.45809691\n",
      "Iteration 494, loss = 0.45760661\n",
      "Iteration 495, loss = 0.45733309\n",
      "Iteration 496, loss = 0.45726710\n",
      "Iteration 497, loss = 0.45754319\n",
      "Iteration 498, loss = 0.45709398\n",
      "Iteration 499, loss = 0.45719795\n",
      "Iteration 500, loss = 0.45709117\n",
      "Iteration 501, loss = 0.45705106\n"
     ]
    },
    {
     "name": "stdout",
     "output_type": "stream",
     "text": [
      "Iteration 502, loss = 0.45649053\n",
      "Iteration 503, loss = 0.45694690\n",
      "Iteration 504, loss = 0.45682813\n",
      "Iteration 505, loss = 0.45647908\n",
      "Iteration 506, loss = 0.45638923\n",
      "Iteration 507, loss = 0.45658521\n",
      "Iteration 508, loss = 0.45668534\n",
      "Iteration 509, loss = 0.45645374\n",
      "Iteration 510, loss = 0.45626654\n",
      "Iteration 511, loss = 0.45591130\n",
      "Iteration 512, loss = 0.45597422\n",
      "Iteration 513, loss = 0.45584000\n",
      "Iteration 514, loss = 0.45570709\n",
      "Iteration 515, loss = 0.45575306\n",
      "Iteration 516, loss = 0.45547710\n",
      "Iteration 517, loss = 0.45547906\n",
      "Iteration 518, loss = 0.45566349\n",
      "Iteration 519, loss = 0.45520780\n",
      "Iteration 520, loss = 0.45510310\n",
      "Iteration 521, loss = 0.45519488\n",
      "Iteration 522, loss = 0.45517277\n",
      "Iteration 523, loss = 0.45510510\n",
      "Iteration 524, loss = 0.45476767\n",
      "Iteration 525, loss = 0.45463062\n",
      "Iteration 526, loss = 0.45467820\n",
      "Iteration 527, loss = 0.45459038\n",
      "Iteration 528, loss = 0.45444032\n",
      "Iteration 529, loss = 0.45441723\n",
      "Iteration 530, loss = 0.45430050\n",
      "Iteration 531, loss = 0.45426948\n",
      "Iteration 532, loss = 0.45427613\n",
      "Iteration 533, loss = 0.45375548\n",
      "Iteration 534, loss = 0.45369325\n",
      "Iteration 535, loss = 0.45369568\n",
      "Iteration 536, loss = 0.45381995\n",
      "Iteration 537, loss = 0.45370844\n",
      "Iteration 538, loss = 0.45362883\n",
      "Iteration 539, loss = 0.45343702\n",
      "Iteration 540, loss = 0.45344511\n",
      "Iteration 541, loss = 0.45324609\n",
      "Iteration 542, loss = 0.45306727\n",
      "Iteration 543, loss = 0.45297251\n",
      "Iteration 544, loss = 0.45295520\n",
      "Iteration 545, loss = 0.45277874\n",
      "Iteration 546, loss = 0.45291353\n",
      "Iteration 547, loss = 0.45290217\n",
      "Iteration 548, loss = 0.45252127\n",
      "Iteration 549, loss = 0.45246282\n",
      "Iteration 550, loss = 0.45242345\n",
      "Iteration 551, loss = 0.45215319\n",
      "Iteration 552, loss = 0.45247785\n",
      "Iteration 553, loss = 0.45210243\n",
      "Iteration 554, loss = 0.45190210\n",
      "Iteration 555, loss = 0.45190487\n",
      "Iteration 556, loss = 0.45199377\n",
      "Iteration 557, loss = 0.45178687\n",
      "Iteration 558, loss = 0.45152820\n",
      "Iteration 559, loss = 0.45188245\n",
      "Iteration 560, loss = 0.45160435\n",
      "Iteration 561, loss = 0.45114931\n",
      "Iteration 562, loss = 0.45142062\n",
      "Iteration 563, loss = 0.45117074\n",
      "Iteration 564, loss = 0.45116997\n",
      "Iteration 565, loss = 0.45101745\n",
      "Iteration 566, loss = 0.45117844\n",
      "Iteration 567, loss = 0.45102569\n",
      "Iteration 568, loss = 0.45057644\n",
      "Iteration 569, loss = 0.45103665\n",
      "Iteration 570, loss = 0.45105461\n",
      "Iteration 571, loss = 0.45034309\n",
      "Iteration 572, loss = 0.45044936\n",
      "Iteration 573, loss = 0.45017461\n",
      "Iteration 574, loss = 0.45005887\n",
      "Iteration 575, loss = 0.44999292\n",
      "Iteration 576, loss = 0.45019977\n",
      "Iteration 577, loss = 0.44984747\n",
      "Iteration 578, loss = 0.44961644\n",
      "Iteration 579, loss = 0.44947406\n",
      "Iteration 580, loss = 0.44999583\n",
      "Iteration 581, loss = 0.44964585\n",
      "Iteration 582, loss = 0.44954374\n",
      "Iteration 583, loss = 0.44910219\n",
      "Iteration 584, loss = 0.44918332\n",
      "Iteration 585, loss = 0.44913866\n",
      "Iteration 586, loss = 0.44906325\n",
      "Iteration 587, loss = 0.44908017\n",
      "Iteration 588, loss = 0.44892586\n",
      "Iteration 589, loss = 0.44876342\n",
      "Iteration 590, loss = 0.44845998\n",
      "Iteration 591, loss = 0.44847865\n",
      "Iteration 592, loss = 0.44845271\n",
      "Iteration 593, loss = 0.44837354\n",
      "Iteration 594, loss = 0.44828188\n",
      "Iteration 595, loss = 0.44830567\n",
      "Iteration 596, loss = 0.44822130\n",
      "Iteration 597, loss = 0.44802676\n",
      "Iteration 598, loss = 0.44800297\n",
      "Iteration 599, loss = 0.44812561\n",
      "Iteration 600, loss = 0.44768426\n",
      "Iteration 601, loss = 0.44769419\n",
      "Iteration 602, loss = 0.44759530\n",
      "Iteration 603, loss = 0.44750658\n",
      "Iteration 604, loss = 0.44725930\n",
      "Iteration 605, loss = 0.44729501\n",
      "Iteration 606, loss = 0.44726296\n",
      "Iteration 607, loss = 0.44702462\n",
      "Iteration 608, loss = 0.44708455\n",
      "Iteration 609, loss = 0.44705504\n",
      "Iteration 610, loss = 0.44673931\n",
      "Iteration 611, loss = 0.44663786\n",
      "Iteration 612, loss = 0.44649208\n",
      "Iteration 613, loss = 0.44667308\n",
      "Iteration 614, loss = 0.44668886\n",
      "Iteration 615, loss = 0.44672234\n",
      "Iteration 616, loss = 0.44615052\n",
      "Iteration 617, loss = 0.44628009\n",
      "Iteration 618, loss = 0.44608385\n",
      "Iteration 619, loss = 0.44604402\n",
      "Iteration 620, loss = 0.44588946\n",
      "Iteration 621, loss = 0.44599581\n",
      "Iteration 622, loss = 0.44577094\n",
      "Iteration 623, loss = 0.44559394\n",
      "Iteration 624, loss = 0.44565724\n",
      "Iteration 625, loss = 0.44555009\n",
      "Iteration 626, loss = 0.44540763\n",
      "Iteration 627, loss = 0.44511452\n",
      "Iteration 628, loss = 0.44521780\n",
      "Iteration 629, loss = 0.44573952\n",
      "Iteration 630, loss = 0.44499970\n",
      "Iteration 631, loss = 0.44511927\n",
      "Iteration 632, loss = 0.44491027\n",
      "Iteration 633, loss = 0.44467707\n",
      "Iteration 634, loss = 0.44485781\n",
      "Iteration 635, loss = 0.44479502\n",
      "Iteration 636, loss = 0.44452384\n",
      "Iteration 637, loss = 0.44458852\n",
      "Iteration 638, loss = 0.44422968\n",
      "Iteration 639, loss = 0.44418218\n",
      "Iteration 640, loss = 0.44422755\n",
      "Iteration 641, loss = 0.44424380\n",
      "Iteration 642, loss = 0.44419181\n",
      "Iteration 643, loss = 0.44436866\n",
      "Iteration 644, loss = 0.44378478\n",
      "Iteration 645, loss = 0.44412308\n",
      "Iteration 646, loss = 0.44384212\n",
      "Iteration 647, loss = 0.44400307\n",
      "Iteration 648, loss = 0.44349678\n",
      "Iteration 649, loss = 0.44336828\n",
      "Iteration 650, loss = 0.44345399\n",
      "Iteration 651, loss = 0.44320193\n",
      "Iteration 652, loss = 0.44336284\n",
      "Iteration 653, loss = 0.44320433\n",
      "Iteration 654, loss = 0.44318692\n",
      "Iteration 655, loss = 0.44294294\n",
      "Iteration 656, loss = 0.44289349\n",
      "Iteration 657, loss = 0.44274438\n",
      "Iteration 658, loss = 0.44286421\n",
      "Iteration 659, loss = 0.44266764\n",
      "Iteration 660, loss = 0.44277496\n",
      "Iteration 661, loss = 0.44245129\n",
      "Iteration 662, loss = 0.44239260\n",
      "Iteration 663, loss = 0.44244995\n",
      "Iteration 664, loss = 0.44251381\n",
      "Iteration 665, loss = 0.44215341\n",
      "Iteration 666, loss = 0.44216606\n",
      "Iteration 667, loss = 0.44201660\n",
      "Iteration 668, loss = 0.44237274\n",
      "Iteration 669, loss = 0.44192227\n",
      "Iteration 670, loss = 0.44206028\n",
      "Iteration 671, loss = 0.44180747\n",
      "Iteration 672, loss = 0.44175302\n",
      "Iteration 673, loss = 0.44176925\n",
      "Iteration 674, loss = 0.44164158\n",
      "Iteration 675, loss = 0.44140251\n",
      "Iteration 676, loss = 0.44142205\n",
      "Iteration 677, loss = 0.44132991\n",
      "Iteration 678, loss = 0.44111352\n",
      "Iteration 679, loss = 0.44095760\n",
      "Iteration 680, loss = 0.44112364\n",
      "Iteration 681, loss = 0.44082986\n",
      "Iteration 682, loss = 0.44087837\n",
      "Iteration 683, loss = 0.44059272\n",
      "Iteration 684, loss = 0.44108633\n",
      "Iteration 685, loss = 0.44108852\n",
      "Iteration 686, loss = 0.44077448\n",
      "Iteration 687, loss = 0.44048682\n",
      "Iteration 688, loss = 0.44062351\n",
      "Iteration 689, loss = 0.44034618\n",
      "Iteration 690, loss = 0.44071874\n",
      "Iteration 691, loss = 0.44036647\n",
      "Iteration 692, loss = 0.44006803\n",
      "Iteration 693, loss = 0.44039283\n",
      "Iteration 694, loss = 0.44003649\n",
      "Iteration 695, loss = 0.44017118\n",
      "Iteration 696, loss = 0.44015321\n",
      "Iteration 697, loss = 0.43988015\n",
      "Iteration 698, loss = 0.43951421\n",
      "Iteration 699, loss = 0.43976586\n",
      "Iteration 700, loss = 0.43963518\n",
      "Iteration 701, loss = 0.43944262\n",
      "Iteration 702, loss = 0.43939704\n",
      "Iteration 703, loss = 0.43971847\n",
      "Iteration 704, loss = 0.43918932\n",
      "Iteration 705, loss = 0.43943590\n",
      "Iteration 706, loss = 0.43918784\n",
      "Iteration 707, loss = 0.43911495\n",
      "Iteration 708, loss = 0.43889944\n",
      "Iteration 709, loss = 0.43918917\n",
      "Iteration 710, loss = 0.43894363\n",
      "Iteration 711, loss = 0.43876959\n",
      "Iteration 712, loss = 0.43897214\n",
      "Iteration 713, loss = 0.43874832\n",
      "Iteration 714, loss = 0.43846343\n",
      "Iteration 715, loss = 0.43856740\n",
      "Iteration 716, loss = 0.43887178\n",
      "Iteration 717, loss = 0.43841018\n",
      "Iteration 718, loss = 0.43847890\n",
      "Iteration 719, loss = 0.43807114\n",
      "Iteration 720, loss = 0.43822551\n",
      "Iteration 721, loss = 0.43833576\n",
      "Iteration 722, loss = 0.43802459\n",
      "Iteration 723, loss = 0.43818687\n",
      "Iteration 724, loss = 0.43810803\n",
      "Iteration 725, loss = 0.43784069\n",
      "Iteration 726, loss = 0.43758901\n",
      "Iteration 727, loss = 0.43755870\n",
      "Iteration 728, loss = 0.43744865\n",
      "Iteration 729, loss = 0.43766300\n",
      "Iteration 730, loss = 0.43744357\n",
      "Iteration 731, loss = 0.43747169\n",
      "Iteration 732, loss = 0.43754926\n",
      "Iteration 733, loss = 0.43730283\n",
      "Iteration 734, loss = 0.43710735\n",
      "Iteration 735, loss = 0.43714452\n",
      "Iteration 736, loss = 0.43705934\n",
      "Iteration 737, loss = 0.43703537\n",
      "Iteration 738, loss = 0.43676043\n",
      "Iteration 739, loss = 0.43680194\n",
      "Iteration 740, loss = 0.43665783\n",
      "Iteration 741, loss = 0.43672499\n",
      "Iteration 742, loss = 0.43673265\n",
      "Iteration 743, loss = 0.43669021\n",
      "Iteration 744, loss = 0.43639826\n",
      "Iteration 745, loss = 0.43651863\n",
      "Iteration 746, loss = 0.43627446\n",
      "Iteration 747, loss = 0.43622814\n",
      "Iteration 748, loss = 0.43628618\n",
      "Iteration 749, loss = 0.43607976\n",
      "Iteration 750, loss = 0.43600931\n",
      "Iteration 751, loss = 0.43615496\n",
      "Iteration 752, loss = 0.43608922\n",
      "Iteration 753, loss = 0.43589036\n"
     ]
    },
    {
     "name": "stdout",
     "output_type": "stream",
     "text": [
      "Iteration 754, loss = 0.43584358\n",
      "Iteration 755, loss = 0.43619413\n",
      "Iteration 756, loss = 0.43590909\n",
      "Iteration 757, loss = 0.43574209\n",
      "Iteration 758, loss = 0.43562677\n",
      "Iteration 759, loss = 0.43560350\n",
      "Iteration 760, loss = 0.43539191\n",
      "Iteration 761, loss = 0.43534185\n",
      "Iteration 762, loss = 0.43520302\n",
      "Iteration 763, loss = 0.43549615\n",
      "Iteration 764, loss = 0.43554443\n",
      "Iteration 765, loss = 0.43528489\n",
      "Iteration 766, loss = 0.43505048\n",
      "Iteration 767, loss = 0.43491505\n",
      "Iteration 768, loss = 0.43479580\n",
      "Iteration 769, loss = 0.43485382\n",
      "Iteration 770, loss = 0.43479878\n",
      "Iteration 771, loss = 0.43470859\n",
      "Iteration 772, loss = 0.43466708\n",
      "Iteration 773, loss = 0.43459331\n",
      "Iteration 774, loss = 0.43462155\n",
      "Iteration 775, loss = 0.43447834\n",
      "Iteration 776, loss = 0.43435832\n",
      "Iteration 777, loss = 0.43434489\n",
      "Iteration 778, loss = 0.43438395\n",
      "Iteration 779, loss = 0.43435993\n",
      "Iteration 780, loss = 0.43420057\n",
      "Iteration 781, loss = 0.43392759\n",
      "Iteration 782, loss = 0.43374734\n",
      "Iteration 783, loss = 0.43386727\n",
      "Iteration 784, loss = 0.43410758\n",
      "Iteration 785, loss = 0.43384007\n",
      "Iteration 786, loss = 0.43395717\n",
      "Iteration 787, loss = 0.43388481\n",
      "Iteration 788, loss = 0.43355488\n",
      "Iteration 789, loss = 0.43369499\n",
      "Iteration 790, loss = 0.43365392\n",
      "Iteration 791, loss = 0.43347505\n",
      "Iteration 792, loss = 0.43325101\n",
      "Iteration 793, loss = 0.43324095\n",
      "Iteration 794, loss = 0.43330542\n",
      "Iteration 795, loss = 0.43299420\n",
      "Iteration 796, loss = 0.43374618\n",
      "Iteration 797, loss = 0.43303968\n",
      "Iteration 798, loss = 0.43298950\n",
      "Iteration 799, loss = 0.43271622\n",
      "Iteration 800, loss = 0.43275296\n",
      "Iteration 801, loss = 0.43265506\n",
      "Iteration 802, loss = 0.43261221\n",
      "Iteration 803, loss = 0.43259771\n",
      "Iteration 804, loss = 0.43277890\n",
      "Iteration 805, loss = 0.43239723\n",
      "Iteration 806, loss = 0.43246530\n",
      "Iteration 807, loss = 0.43252488\n",
      "Iteration 808, loss = 0.43233258\n",
      "Iteration 809, loss = 0.43215823\n",
      "Iteration 810, loss = 0.43266802\n",
      "Iteration 811, loss = 0.43228140\n",
      "Iteration 812, loss = 0.43216512\n",
      "Iteration 813, loss = 0.43191965\n",
      "Iteration 814, loss = 0.43187949\n",
      "Iteration 815, loss = 0.43177125\n",
      "Iteration 816, loss = 0.43199613\n",
      "Iteration 817, loss = 0.43208233\n",
      "Iteration 818, loss = 0.43159107\n",
      "Iteration 819, loss = 0.43197046\n",
      "Iteration 820, loss = 0.43200237\n",
      "Iteration 821, loss = 0.43145251\n",
      "Iteration 822, loss = 0.43156992\n",
      "Iteration 823, loss = 0.43139593\n",
      "Iteration 824, loss = 0.43128600\n",
      "Iteration 825, loss = 0.43111831\n",
      "Iteration 826, loss = 0.43109723\n",
      "Iteration 827, loss = 0.43105996\n",
      "Iteration 828, loss = 0.43115220\n",
      "Iteration 829, loss = 0.43109384\n",
      "Iteration 830, loss = 0.43093753\n",
      "Iteration 831, loss = 0.43104168\n",
      "Iteration 832, loss = 0.43124018\n",
      "Iteration 833, loss = 0.43124248\n",
      "Iteration 834, loss = 0.43120658\n",
      "Iteration 835, loss = 0.43056883\n",
      "Iteration 836, loss = 0.43080432\n",
      "Iteration 837, loss = 0.43069240\n",
      "Iteration 838, loss = 0.43085611\n",
      "Iteration 839, loss = 0.43054148\n",
      "Iteration 840, loss = 0.43020889\n",
      "Iteration 841, loss = 0.43008462\n",
      "Iteration 842, loss = 0.43061414\n",
      "Iteration 843, loss = 0.43024685\n",
      "Iteration 844, loss = 0.43019606\n",
      "Iteration 845, loss = 0.43003822\n",
      "Iteration 846, loss = 0.43021267\n",
      "Iteration 847, loss = 0.42996562\n",
      "Iteration 848, loss = 0.42992651\n",
      "Iteration 849, loss = 0.42989724\n",
      "Iteration 850, loss = 0.42980499\n",
      "Iteration 851, loss = 0.42996938\n",
      "Iteration 852, loss = 0.43000329\n",
      "Training loss did not improve more than tol=0.000100 for 10 consecutive epochs. Stopping.\n",
      "Wall time: 52.2 s\n"
     ]
    },
    {
     "data": {
      "text/plain": [
       "MLPClassifier(activation='logistic', hidden_layer_sizes=(50,), max_iter=2000,\n",
       "              random_state=42, verbose=1)"
      ]
     },
     "execution_count": 87,
     "metadata": {},
     "output_type": "execute_result"
    }
   ],
   "source": [
    "%%time\n",
    "mlp_model.fit(X_train, y_train)"
   ]
  },
  {
   "cell_type": "markdown",
   "id": "b0cc58a8",
   "metadata": {},
   "source": [
    "# Ошибка на тренировочной выборке"
   ]
  },
  {
   "cell_type": "code",
   "execution_count": 88,
   "id": "012afa79",
   "metadata": {},
   "outputs": [
    {
     "data": {
      "text/plain": [
       "0.20939157918500959"
      ]
     },
     "execution_count": 88,
     "metadata": {},
     "output_type": "execute_result"
    }
   ],
   "source": [
    "y_train_predict = mlp_model.predict(X_train)\n",
    "err_train  = np.mean(y_train  != y_train_predict)\n",
    "err_train"
   ]
  },
  {
   "cell_type": "markdown",
   "id": "347d2317",
   "metadata": {},
   "source": [
    "# Ошибка на тестовой выборке"
   ]
  },
  {
   "cell_type": "code",
   "execution_count": 89,
   "id": "894e8a3c",
   "metadata": {},
   "outputs": [
    {
     "data": {
      "text/plain": [
       "0.2593094109681787"
      ]
     },
     "execution_count": 89,
     "metadata": {},
     "output_type": "execute_result"
    }
   ],
   "source": [
    "y_test_predict = mlp_model.predict(X_test)\n",
    "err_test  = np.mean(y_test  != y_test_predict)\n",
    "err_test"
   ]
  },
  {
   "cell_type": "code",
   "execution_count": 90,
   "id": "1514f5c9",
   "metadata": {
    "scrolled": true
   },
   "outputs": [
    {
     "data": {
      "image/png": "[encoded data removed]",
      "text/plain": [
       "<Figure size 720x432 with 2 Axes>"
      ]
     },
     "metadata": {
      "needs_background": "light"
     },
     "output_type": "display_data"
    }
   ],
   "source": [
    "from sklearn.metrics import confusion_matrix, f1_score\n",
    "plt.figure(figsize=(10,6))\n",
    "x=sns.heatmap(confusion_matrix(y_test, y_test_predict),annot=True, fmt='0.1f')\n",
    "plt.show()"
   ]
  },
  {
   "cell_type": "code",
   "execution_count": 91,
   "id": "a09ac582",
   "metadata": {},
   "outputs": [
    {
     "data": {
      "text/plain": [
       "0.7481919789612096"
      ]
     },
     "execution_count": 91,
     "metadata": {},
     "output_type": "execute_result"
    }
   ],
   "source": [
    "f1_score(y_test, y_test_predict)"
   ]
  },
  {
   "cell_type": "markdown",
   "id": "958e60eb",
   "metadata": {},
   "source": [
    "# Подбор параметра alpha"
   ]
  },
  {
   "cell_type": "code",
   "execution_count": 92,
   "id": "7a413e6c",
   "metadata": {},
   "outputs": [
    {
     "name": "stderr",
     "output_type": "stream",
     "text": [
      "<ipython-input-92-9b512663ed09>:7: TqdmDeprecationWarning: This function will be removed in tqdm==5.0.0\n",
      "Please use `tqdm.notebook.tqdm` instead of `tqdm.tqdm_notebook`\n",
      "  for alpha in tqdm.tqdm_notebook(alpha_arr):\n"
     ]
    },
    {
     "data": {
      "application/vnd.jupyter.widget-view+json": {
       "model_id": "85b72cdb7068495f89c1549396808037",
       "version_major": 2,
       "version_minor": 0
      },
      "text/plain": [
       "  0%|          | 0/21 [00:00<?, ?it/s]"
      ]
     },
     "metadata": {},
     "output_type": "display_data"
    }
   ],
   "source": [
    "alpha_arr = np.logspace(-3, 2, 21)\n",
    "test_err = []\n",
    "train_err = []\n",
    "train_acc = []\n",
    "test_acc = []\n",
    "\n",
    "for alpha in tqdm.tqdm_notebook(alpha_arr):\n",
    "    mlp_model = MLPClassifier(alpha = alpha, hidden_layer_sizes = (30,), \n",
    "                              solver = 'adam', activation = 'logistic', max_iter=1000, random_state = 42)\n",
    "    mlp_model.fit(X_train, y_train)\n",
    "\n",
    "    y_train_pred = mlp_model.predict(X_train)\n",
    "    y_test_pred = mlp_model.predict(X_test)\n",
    "    \n",
    "    train_err.append(np.mean(y_train != y_train_pred))\n",
    "    test_err.append(np.mean(y_test != y_test_pred))\n",
    "    train_acc.append(accuracy_score(y_train, y_train_pred))\n",
    "    test_acc.append(accuracy_score(y_test, y_test_pred))"
   ]
  },
  {
   "cell_type": "code",
   "execution_count": 93,
   "id": "9882992c",
   "metadata": {},
   "outputs": [
    {
     "data": {
      "text/plain": [
       "<matplotlib.legend.Legend at 0x1f19c1d6a60>"
      ]
     },
     "execution_count": 93,
     "metadata": {},
     "output_type": "execute_result"
    },
    {
     "data": {
      "image/png": "[encoded data removed]",
      "text/plain": [
       "<Figure size 432x288 with 1 Axes>"
      ]
     },
     "metadata": {
      "needs_background": "light"
     },
     "output_type": "display_data"
    }
   ],
   "source": [
    "plt.semilogx(alpha_arr, train_err, 'b-o', label = 'train')\n",
    "plt.semilogx(alpha_arr, test_err, 'r-o', label = 'test')\n",
    "plt.xlim([np.min(alpha_arr), np.max(alpha_arr)])\n",
    "plt.title('Error vs. alpha')\n",
    "plt.xlabel('alpha')\n",
    "plt.ylabel('error')\n",
    "plt.legend()"
   ]
  },
  {
   "cell_type": "markdown",
   "id": "e2a08cef",
   "metadata": {},
   "source": [
    "Найдем минимальное значение ошибки"
   ]
  },
  {
   "cell_type": "code",
   "execution_count": 94,
   "id": "b8b964f2",
   "metadata": {},
   "outputs": [
    {
     "name": "stdout",
     "output_type": "stream",
     "text": [
      "0.2250818376791963 0.23933649289099526\n"
     ]
    }
   ],
   "source": [
    "min_train_err = np.min(train_err)\n",
    "min_test_err = np.min(test_err)\n",
    "print(min_train_err, min_test_err)"
   ]
  },
  {
   "cell_type": "markdown",
   "id": "0e9c3c39",
   "metadata": {},
   "source": [
    "Теперь оптимальное alpha"
   ]
  },
  {
   "cell_type": "code",
   "execution_count": 95,
   "id": "b000f05c",
   "metadata": {},
   "outputs": [
    {
     "name": "stdout",
     "output_type": "stream",
     "text": [
      "[0.03162278]\n"
     ]
    }
   ],
   "source": [
    "alpha_opt = alpha_arr[test_err == min_test_err]\n",
    "print(alpha_opt)"
   ]
  },
  {
   "cell_type": "markdown",
   "id": "a443da52",
   "metadata": {},
   "source": [
    "Классификатор при найденном оптимальном значении alpha:"
   ]
  },
  {
   "cell_type": "code",
   "execution_count": 96,
   "id": "fd113441",
   "metadata": {},
   "outputs": [
    {
     "name": "stdout",
     "output_type": "stream",
     "text": [
      "0.2359182752003612\n",
      "0.23933649289099526\n"
     ]
    }
   ],
   "source": [
    "mlp_model = MLPClassifier(alpha = alpha_opt, hidden_layer_sizes = (30,),\n",
    "                          solver = 'adam', activation = 'logistic', random_state = 42,max_iter=1000)\n",
    "mlp_model.fit(X_train, y_train)\n",
    "\n",
    "y_train_pred = mlp_model.predict(X_train)\n",
    "y_test_pred = mlp_model.predict(X_test)\n",
    "print(np.mean(y_train != y_train_pred))\n",
    "print(np.mean(y_test != y_test_pred))"
   ]
  },
  {
   "cell_type": "markdown",
   "id": "7681bf4c",
   "metadata": {},
   "source": [
    "# Подберем оптимальное количество нейронов на скрытом слое"
   ]
  },
  {
   "cell_type": "code",
   "execution_count": 97,
   "id": "4b8d4d24",
   "metadata": {},
   "outputs": [
    {
     "name": "stderr",
     "output_type": "stream",
     "text": [
      "<ipython-input-97-28e86d6633bf>:9: TqdmDeprecationWarning: This function will be removed in tqdm==5.0.0\n",
      "Please use `tqdm.notebook.tqdm` instead of `tqdm.tqdm_notebook`\n",
      "  for neurons_count in tqdm.tqdm_notebook(neurons):\n"
     ]
    },
    {
     "data": {
      "application/vnd.jupyter.widget-view+json": {
       "model_id": "8dd2b1da23c0417d9be1239ce2691151",
       "version_major": 2,
       "version_minor": 0
      },
      "text/plain": [
       "  0%|          | 0/98 [00:00<?, ?it/s]"
      ]
     },
     "metadata": {},
     "output_type": "display_data"
    }
   ],
   "source": [
    "from sklearn.metrics import accuracy_score\n",
    "import tqdm\n",
    "neurons = np.arange(2,100,1,dtype = int)\n",
    "test_err = []\n",
    "train_err = []\n",
    "train_acc = []\n",
    "test_acc = []\n",
    "\n",
    "for neurons_count in tqdm.tqdm_notebook(neurons):\n",
    "    mlp_model = MLPClassifier(alpha=alpha_opt,hidden_layer_sizes = (neurons_count,), solver = 'adam',  activation = 'logistic',\n",
    "                              max_iter=2000,random_state = 42,tol=1e-3)\n",
    "    mlp_model.fit(X_train, y_train)\n",
    "\n",
    "    y_train_pred = mlp_model.predict(X_train)\n",
    "    y_test_pred = mlp_model.predict(X_test)\n",
    "    \n",
    "    train_err.append(np.mean(y_train != y_train_pred))\n",
    "    test_err.append(np.mean(y_test != y_test_pred))\n",
    "    train_acc.append(accuracy_score(y_train, y_train_pred))\n",
    "    test_acc.append(accuracy_score(y_test, y_test_pred))"
   ]
  },
  {
   "cell_type": "code",
   "execution_count": 98,
   "id": "3b9f17e2",
   "metadata": {
    "scrolled": true
   },
   "outputs": [
    {
     "data": {
      "text/plain": [
       "<matplotlib.legend.Legend at 0x1f19deacd90>"
      ]
     },
     "execution_count": 98,
     "metadata": {},
     "output_type": "execute_result"
    },
    {
     "data": {
      "image/png": "[encoded data removed]",
      "text/plain": [
       "<Figure size 432x288 with 1 Axes>"
      ]
     },
     "metadata": {
      "needs_background": "light"
     },
     "output_type": "display_data"
    }
   ],
   "source": [
    "plt.semilogx(neurons, train_err, 'b-o', label = 'train')\n",
    "plt.semilogx(neurons, test_err, 'r-o', label = 'test')\n",
    "plt.xlim([np.min(neurons), np.max(neurons)])\n",
    "plt.title('Error vs. neurons count')\n",
    "plt.xlabel('neurons count')\n",
    "plt.ylabel('error')\n",
    "plt.legend()"
   ]
  },
  {
   "cell_type": "code",
   "execution_count": 99,
   "id": "a48e8aee",
   "metadata": {
    "scrolled": true
   },
   "outputs": [
    {
     "data": {
      "text/plain": [
       "<matplotlib.legend.Legend at 0x1f19df28070>"
      ]
     },
     "execution_count": 99,
     "metadata": {},
     "output_type": "execute_result"
    },
    {
     "data": {
      "image/png": "[encoded data removed]",
      "text/plain": [
       "<Figure size 432x288 with 1 Axes>"
      ]
     },
     "metadata": {
      "needs_background": "light"
     },
     "output_type": "display_data"
    }
   ],
   "source": [
    "plt.semilogx(neurons, train_acc, 'r-o', label = 'train')\n",
    "plt.semilogx(neurons, test_acc, 'b-o', label = 'test')\n",
    "plt.xlim([np.min(neurons), np.max(neurons)])\n",
    "plt.title('Accuracy vs. neurons count')\n",
    "plt.xlabel('neurons count')\n",
    "plt.ylabel('Accuracy')\n",
    "plt.legend()"
   ]
  },
  {
   "cell_type": "code",
   "execution_count": 100,
   "id": "32cb8857",
   "metadata": {},
   "outputs": [],
   "source": [
    "indexMax = np.argmax(test_acc)\n"
   ]
  },
  {
   "cell_type": "markdown",
   "id": "ac4709c2",
   "metadata": {},
   "source": [
    "# Построим нейросеть с оптимальынми параметрами"
   ]
  },
  {
   "cell_type": "code",
   "execution_count": 101,
   "id": "70d96ce4",
   "metadata": {},
   "outputs": [],
   "source": [
    "mlp_model = MLPClassifier(alpha=alpha_opt,hidden_layer_sizes =neurons[indexMax] , solver = 'adam',  activation = 'logistic',\n",
    "                          max_iter=2000,random_state = 42,tol=1e-3)\n",
    "mlp_model.fit(X_train, y_train)\n",
    "\n",
    "y_train_pred = mlp_model.predict(X_train)\n",
    "y_test_pred = mlp_model.predict(X_test)\n",
    "\n",
    "train_err.append(np.mean(y_train != y_train_pred))\n",
    "test_err.append(np.mean(y_test != y_test_pred))\n",
    "train_acc.append(accuracy_score(y_train, y_train_pred))\n",
    "test_acc.append(accuracy_score(y_test, y_test_pred))"
   ]
  },
  {
   "cell_type": "markdown",
   "id": "628ed446",
   "metadata": {},
   "source": [
    "# Ошибка на тестовой выборке\n"
   ]
  },
  {
   "cell_type": "code",
   "execution_count": 102,
   "id": "9995737f",
   "metadata": {},
   "outputs": [
    {
     "data": {
      "text/plain": [
       "0.2525389302640487"
      ]
     },
     "execution_count": 102,
     "metadata": {},
     "output_type": "execute_result"
    }
   ],
   "source": [
    "y_test_predict = mlp_model.predict(X_test)\n",
    "err_test  = np.mean(y_test  != y_test_predict)\n",
    "err_test"
   ]
  },
  {
   "cell_type": "markdown",
   "id": "f6d02a35",
   "metadata": {},
   "source": [
    "# Ошибка на тренировочной выборке"
   ]
  },
  {
   "cell_type": "code",
   "execution_count": 103,
   "id": "7106889d",
   "metadata": {},
   "outputs": [
    {
     "data": {
      "text/plain": [
       "0.2548820408623998"
      ]
     },
     "execution_count": 103,
     "metadata": {},
     "output_type": "execute_result"
    }
   ],
   "source": [
    "y_train_predict = mlp_model.predict(X_train)\n",
    "err_train  = np.mean(y_train  != y_train_predict)\n",
    "err_train"
   ]
  },
  {
   "cell_type": "code",
   "execution_count": 104,
   "id": "f9d25ac4",
   "metadata": {},
   "outputs": [],
   "source": [
    "from sklearn.metrics import plot_confusion_matrix"
   ]
  },
  {
   "cell_type": "code",
   "execution_count": 105,
   "id": "3ff8a021",
   "metadata": {},
   "outputs": [
    {
     "data": {
      "text/plain": [
       "<sklearn.metrics._plot.confusion_matrix.ConfusionMatrixDisplay at 0x1f19df147f0>"
      ]
     },
     "execution_count": 105,
     "metadata": {},
     "output_type": "execute_result"
    },
    {
     "data": {
      "image/png": "[encoded data removed]",
      "text/plain": [
       "<Figure size 432x288 with 2 Axes>"
      ]
     },
     "metadata": {
      "needs_background": "light"
     },
     "output_type": "display_data"
    }
   ],
   "source": [
    "plot_confusion_matrix(mlp_model, X_test, y_test) "
   ]
  },
  {
   "cell_type": "markdown",
   "id": "c9c0d7a2",
   "metadata": {},
   "source": [
    "# Другие  метрики качества"
   ]
  },
  {
   "cell_type": "code",
   "execution_count": 106,
   "id": "a26a9572",
   "metadata": {},
   "outputs": [
    {
     "name": "stdout",
     "output_type": "stream",
     "text": [
      "              precision    recall  f1-score   support\n",
      "\n",
      "           0       0.75      0.72      0.74      1441\n",
      "           1       0.74      0.77      0.76      1513\n",
      "\n",
      "    accuracy                           0.75      2954\n",
      "   macro avg       0.75      0.75      0.75      2954\n",
      "weighted avg       0.75      0.75      0.75      2954\n",
      "\n"
     ]
    }
   ],
   "source": [
    "from sklearn.metrics import classification_report\n",
    "print(classification_report(y_test, y_test_pred))"
   ]
  },
  {
   "cell_type": "markdown",
   "id": "ed5516d9",
   "metadata": {},
   "source": [
    "## Вывод: \n",
    "была произведена попытка построения нейросети для решения поставленной задачи. Результат оказался немного лучше, но даже после приведения задачи к бинарной классификации оставляет желать лучшего"
   ]
  },
  {
   "cell_type": "code",
   "execution_count": null,
   "id": "cd678f8a",
   "metadata": {},
   "outputs": [],
   "source": []
  }
 ],
 "metadata": {
  "kernelspec": {
   "display_name": "Python 3",
   "language": "python",
   "name": "python3"
  },
  "language_info": {
   "codemirror_mode": {
    "name": "ipython",
    "version": 3
   },
   "file_extension": ".py",
   "mimetype": "text/x-python",
   "name": "python",
   "nbconvert_exporter": "python",
   "pygments_lexer": "ipython3",
   "version": "3.8.8"
  }
 },
 "nbformat": 4,
 "nbformat_minor": 5
}
