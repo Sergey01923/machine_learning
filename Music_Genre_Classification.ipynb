{
 "cells": [
  {
   "cell_type": "code",
   "execution_count": 189,
   "id": "ee7c544a",
   "metadata": {},
   "outputs": [],
   "source": [
    "import numpy as np              # Массивы (матрицы, векторы, линейная алгебра)\n",
    "import matplotlib.pyplot as plt # Научная графика\n",
    "%matplotlib inline \n",
    "    # Говорим jupyter'у, чтобы весь графический вывод был в браузере, а не в отдельном окне\n",
    "import pandas as pd             # Таблицы и временные ряды (dataframe, series)\n",
    "import seaborn as sns           # Еще больше красивой графики для визуализации данных\n",
    "import sklearn                  # Алгоритмы машинного обучения"
   ]
  },
  {
   "cell_type": "markdown",
   "id": "22d8a1d9",
   "metadata": {},
   "source": [
    "# Датасет - Music Genre Classification"
   ]
  },
  {
   "cell_type": "markdown",
   "id": "882d4a32",
   "metadata": {},
   "source": [
    "## Описание задачи  \n",
    "По приведенным характеристикам определить жанр музыки к которому принадлежит песня."
   ]
  },
  {
   "cell_type": "code",
   "execution_count": 190,
   "id": "8882f3ad",
   "metadata": {},
   "outputs": [],
   "source": [
    "url_train = r\"F:/Downloads/Music Genre/train.csv\"\n",
    "\n",
    "data = pd.read_csv(url_train)"
   ]
  },
  {
   "cell_type": "code",
   "execution_count": 191,
   "id": "9c301f96",
   "metadata": {},
   "outputs": [
    {
     "data": {
      "text/plain": [
       "Index(['Artist Name', 'Track Name', 'Popularity', 'danceability', 'energy',\n",
       "       'key', 'loudness', 'mode', 'speechiness', 'acousticness',\n",
       "       'instrumentalness', 'liveness', 'valence', 'tempo',\n",
       "       'duration_in min/ms', 'time_signature', 'Class'],\n",
       "      dtype='object')"
      ]
     },
     "execution_count": 191,
     "metadata": {},
     "output_type": "execute_result"
    }
   ],
   "source": [
    "data.columns"
   ]
  },
  {
   "cell_type": "code",
   "execution_count": 192,
   "id": "e90083b0",
   "metadata": {},
   "outputs": [
    {
     "data": {
      "text/html": [
       "<div>\n",
       "<style scoped>\n",
       "    .dataframe tbody tr th:only-of-type {\n",
       "        vertical-align: middle;\n",
       "    }\n",
       "\n",
       "    .dataframe tbody tr th {\n",
       "        vertical-align: top;\n",
       "    }\n",
       "\n",
       "    .dataframe thead th {\n",
       "        text-align: right;\n",
       "    }\n",
       "</style>\n",
       "<table border=\"1\" class=\"dataframe\">\n",
       "  <thead>\n",
       "    <tr style=\"text-align: right;\">\n",
       "      <th></th>\n",
       "      <th>Artist Name</th>\n",
       "      <th>Track Name</th>\n",
       "      <th>Popularity</th>\n",
       "      <th>danceability</th>\n",
       "      <th>energy</th>\n",
       "      <th>key</th>\n",
       "      <th>loudness</th>\n",
       "      <th>mode</th>\n",
       "      <th>speechiness</th>\n",
       "      <th>acousticness</th>\n",
       "      <th>instrumentalness</th>\n",
       "      <th>liveness</th>\n",
       "      <th>valence</th>\n",
       "      <th>tempo</th>\n",
       "      <th>duration_in min/ms</th>\n",
       "      <th>time_signature</th>\n",
       "      <th>Class</th>\n",
       "    </tr>\n",
       "  </thead>\n",
       "  <tbody>\n",
       "    <tr>\n",
       "      <th>0</th>\n",
       "      <td>Bruno Mars</td>\n",
       "      <td>That's What I Like (feat. Gucci Mane)</td>\n",
       "      <td>60.0</td>\n",
       "      <td>0.854</td>\n",
       "      <td>0.564</td>\n",
       "      <td>1.0</td>\n",
       "      <td>-4.964</td>\n",
       "      <td>1</td>\n",
       "      <td>0.0485</td>\n",
       "      <td>0.017100</td>\n",
       "      <td>NaN</td>\n",
       "      <td>0.0849</td>\n",
       "      <td>0.8990</td>\n",
       "      <td>134.071</td>\n",
       "      <td>234596.0</td>\n",
       "      <td>4</td>\n",
       "      <td>5</td>\n",
       "    </tr>\n",
       "    <tr>\n",
       "      <th>1</th>\n",
       "      <td>Boston</td>\n",
       "      <td>Hitch a Ride</td>\n",
       "      <td>54.0</td>\n",
       "      <td>0.382</td>\n",
       "      <td>0.814</td>\n",
       "      <td>3.0</td>\n",
       "      <td>-7.230</td>\n",
       "      <td>1</td>\n",
       "      <td>0.0406</td>\n",
       "      <td>0.001100</td>\n",
       "      <td>0.004010</td>\n",
       "      <td>0.1010</td>\n",
       "      <td>0.5690</td>\n",
       "      <td>116.454</td>\n",
       "      <td>251733.0</td>\n",
       "      <td>4</td>\n",
       "      <td>10</td>\n",
       "    </tr>\n",
       "    <tr>\n",
       "      <th>2</th>\n",
       "      <td>The Raincoats</td>\n",
       "      <td>No Side to Fall In</td>\n",
       "      <td>35.0</td>\n",
       "      <td>0.434</td>\n",
       "      <td>0.614</td>\n",
       "      <td>6.0</td>\n",
       "      <td>-8.334</td>\n",
       "      <td>1</td>\n",
       "      <td>0.0525</td>\n",
       "      <td>0.486000</td>\n",
       "      <td>0.000196</td>\n",
       "      <td>0.3940</td>\n",
       "      <td>0.7870</td>\n",
       "      <td>147.681</td>\n",
       "      <td>109667.0</td>\n",
       "      <td>4</td>\n",
       "      <td>6</td>\n",
       "    </tr>\n",
       "    <tr>\n",
       "      <th>3</th>\n",
       "      <td>Deno</td>\n",
       "      <td>Lingo (feat. J.I &amp; Chunkz)</td>\n",
       "      <td>66.0</td>\n",
       "      <td>0.853</td>\n",
       "      <td>0.597</td>\n",
       "      <td>10.0</td>\n",
       "      <td>-6.528</td>\n",
       "      <td>0</td>\n",
       "      <td>0.0555</td>\n",
       "      <td>0.021200</td>\n",
       "      <td>NaN</td>\n",
       "      <td>0.1220</td>\n",
       "      <td>0.5690</td>\n",
       "      <td>107.033</td>\n",
       "      <td>173968.0</td>\n",
       "      <td>4</td>\n",
       "      <td>5</td>\n",
       "    </tr>\n",
       "    <tr>\n",
       "      <th>4</th>\n",
       "      <td>Red Hot Chili Peppers</td>\n",
       "      <td>Nobody Weird Like Me - Remastered</td>\n",
       "      <td>53.0</td>\n",
       "      <td>0.167</td>\n",
       "      <td>0.975</td>\n",
       "      <td>2.0</td>\n",
       "      <td>-4.279</td>\n",
       "      <td>1</td>\n",
       "      <td>0.2160</td>\n",
       "      <td>0.000169</td>\n",
       "      <td>0.016100</td>\n",
       "      <td>0.1720</td>\n",
       "      <td>0.0918</td>\n",
       "      <td>199.060</td>\n",
       "      <td>229960.0</td>\n",
       "      <td>4</td>\n",
       "      <td>10</td>\n",
       "    </tr>\n",
       "  </tbody>\n",
       "</table>\n",
       "</div>"
      ],
      "text/plain": [
       "             Artist Name                             Track Name  Popularity  \\\n",
       "0             Bruno Mars  That's What I Like (feat. Gucci Mane)        60.0   \n",
       "1                 Boston                           Hitch a Ride        54.0   \n",
       "2          The Raincoats                     No Side to Fall In        35.0   \n",
       "3                   Deno             Lingo (feat. J.I & Chunkz)        66.0   \n",
       "4  Red Hot Chili Peppers      Nobody Weird Like Me - Remastered        53.0   \n",
       "\n",
       "   danceability  energy   key  loudness  mode  speechiness  acousticness  \\\n",
       "0         0.854   0.564   1.0    -4.964     1       0.0485      0.017100   \n",
       "1         0.382   0.814   3.0    -7.230     1       0.0406      0.001100   \n",
       "2         0.434   0.614   6.0    -8.334     1       0.0525      0.486000   \n",
       "3         0.853   0.597  10.0    -6.528     0       0.0555      0.021200   \n",
       "4         0.167   0.975   2.0    -4.279     1       0.2160      0.000169   \n",
       "\n",
       "   instrumentalness  liveness  valence    tempo  duration_in min/ms  \\\n",
       "0               NaN    0.0849   0.8990  134.071            234596.0   \n",
       "1          0.004010    0.1010   0.5690  116.454            251733.0   \n",
       "2          0.000196    0.3940   0.7870  147.681            109667.0   \n",
       "3               NaN    0.1220   0.5690  107.033            173968.0   \n",
       "4          0.016100    0.1720   0.0918  199.060            229960.0   \n",
       "\n",
       "   time_signature  Class  \n",
       "0               4      5  \n",
       "1               4     10  \n",
       "2               4      6  \n",
       "3               4      5  \n",
       "4               4     10  "
      ]
     },
     "execution_count": 192,
     "metadata": {},
     "output_type": "execute_result"
    }
   ],
   "source": [
    "data.head()"
   ]
  },
  {
   "cell_type": "code",
   "execution_count": 193,
   "id": "86041a4e",
   "metadata": {
    "scrolled": true
   },
   "outputs": [
    {
     "data": {
      "text/html": [
       "<div>\n",
       "<style scoped>\n",
       "    .dataframe tbody tr th:only-of-type {\n",
       "        vertical-align: middle;\n",
       "    }\n",
       "\n",
       "    .dataframe tbody tr th {\n",
       "        vertical-align: top;\n",
       "    }\n",
       "\n",
       "    .dataframe thead th {\n",
       "        text-align: right;\n",
       "    }\n",
       "</style>\n",
       "<table border=\"1\" class=\"dataframe\">\n",
       "  <thead>\n",
       "    <tr style=\"text-align: right;\">\n",
       "      <th></th>\n",
       "      <th>Artist Name</th>\n",
       "      <th>Track Name</th>\n",
       "      <th>Popularity</th>\n",
       "      <th>danceability</th>\n",
       "      <th>energy</th>\n",
       "      <th>key</th>\n",
       "      <th>loudness</th>\n",
       "      <th>mode</th>\n",
       "      <th>speechiness</th>\n",
       "      <th>acousticness</th>\n",
       "      <th>instrumentalness</th>\n",
       "      <th>liveness</th>\n",
       "      <th>valence</th>\n",
       "      <th>tempo</th>\n",
       "      <th>duration_in min/ms</th>\n",
       "      <th>time_signature</th>\n",
       "      <th>Class</th>\n",
       "    </tr>\n",
       "  </thead>\n",
       "  <tbody>\n",
       "    <tr>\n",
       "      <th>17991</th>\n",
       "      <td>Green-House</td>\n",
       "      <td>Find Home</td>\n",
       "      <td>35.0</td>\n",
       "      <td>0.166</td>\n",
       "      <td>0.109</td>\n",
       "      <td>7.0</td>\n",
       "      <td>-17.100</td>\n",
       "      <td>0</td>\n",
       "      <td>0.0413</td>\n",
       "      <td>0.99300</td>\n",
       "      <td>0.824000</td>\n",
       "      <td>0.0984</td>\n",
       "      <td>0.177</td>\n",
       "      <td>171.587</td>\n",
       "      <td>193450.0</td>\n",
       "      <td>3</td>\n",
       "      <td>6</td>\n",
       "    </tr>\n",
       "    <tr>\n",
       "      <th>17992</th>\n",
       "      <td>Micatone</td>\n",
       "      <td>All Gone</td>\n",
       "      <td>27.0</td>\n",
       "      <td>0.638</td>\n",
       "      <td>0.223</td>\n",
       "      <td>11.0</td>\n",
       "      <td>-10.174</td>\n",
       "      <td>0</td>\n",
       "      <td>0.0329</td>\n",
       "      <td>0.85800</td>\n",
       "      <td>0.000016</td>\n",
       "      <td>0.0705</td>\n",
       "      <td>0.335</td>\n",
       "      <td>73.016</td>\n",
       "      <td>257067.0</td>\n",
       "      <td>4</td>\n",
       "      <td>2</td>\n",
       "    </tr>\n",
       "    <tr>\n",
       "      <th>17993</th>\n",
       "      <td>Smash Hit Combo</td>\n",
       "      <td>Peine perdue</td>\n",
       "      <td>34.0</td>\n",
       "      <td>0.558</td>\n",
       "      <td>0.981</td>\n",
       "      <td>4.0</td>\n",
       "      <td>-4.683</td>\n",
       "      <td>0</td>\n",
       "      <td>0.0712</td>\n",
       "      <td>0.00003</td>\n",
       "      <td>0.000136</td>\n",
       "      <td>0.6660</td>\n",
       "      <td>0.262</td>\n",
       "      <td>105.000</td>\n",
       "      <td>216222.0</td>\n",
       "      <td>4</td>\n",
       "      <td>8</td>\n",
       "    </tr>\n",
       "    <tr>\n",
       "      <th>17994</th>\n",
       "      <td>Beherit</td>\n",
       "      <td>Salomon's Gate</td>\n",
       "      <td>29.0</td>\n",
       "      <td>0.215</td>\n",
       "      <td>0.805</td>\n",
       "      <td>6.0</td>\n",
       "      <td>-12.757</td>\n",
       "      <td>0</td>\n",
       "      <td>0.1340</td>\n",
       "      <td>0.00129</td>\n",
       "      <td>0.916000</td>\n",
       "      <td>0.2560</td>\n",
       "      <td>0.355</td>\n",
       "      <td>131.363</td>\n",
       "      <td>219693.0</td>\n",
       "      <td>4</td>\n",
       "      <td>8</td>\n",
       "    </tr>\n",
       "    <tr>\n",
       "      <th>17995</th>\n",
       "      <td>The Raconteurs</td>\n",
       "      <td>Broken Boy Soldier</td>\n",
       "      <td>43.0</td>\n",
       "      <td>0.400</td>\n",
       "      <td>0.853</td>\n",
       "      <td>4.0</td>\n",
       "      <td>-5.320</td>\n",
       "      <td>0</td>\n",
       "      <td>0.0591</td>\n",
       "      <td>0.00604</td>\n",
       "      <td>0.212000</td>\n",
       "      <td>0.3340</td>\n",
       "      <td>0.377</td>\n",
       "      <td>138.102</td>\n",
       "      <td>182227.0</td>\n",
       "      <td>4</td>\n",
       "      <td>10</td>\n",
       "    </tr>\n",
       "  </tbody>\n",
       "</table>\n",
       "</div>"
      ],
      "text/plain": [
       "           Artist Name          Track Name  Popularity  danceability  energy  \\\n",
       "17991      Green-House           Find Home        35.0         0.166   0.109   \n",
       "17992         Micatone            All Gone        27.0         0.638   0.223   \n",
       "17993  Smash Hit Combo        Peine perdue        34.0         0.558   0.981   \n",
       "17994          Beherit      Salomon's Gate        29.0         0.215   0.805   \n",
       "17995   The Raconteurs  Broken Boy Soldier        43.0         0.400   0.853   \n",
       "\n",
       "        key  loudness  mode  speechiness  acousticness  instrumentalness  \\\n",
       "17991   7.0   -17.100     0       0.0413       0.99300          0.824000   \n",
       "17992  11.0   -10.174     0       0.0329       0.85800          0.000016   \n",
       "17993   4.0    -4.683     0       0.0712       0.00003          0.000136   \n",
       "17994   6.0   -12.757     0       0.1340       0.00129          0.916000   \n",
       "17995   4.0    -5.320     0       0.0591       0.00604          0.212000   \n",
       "\n",
       "       liveness  valence    tempo  duration_in min/ms  time_signature  Class  \n",
       "17991    0.0984    0.177  171.587            193450.0               3      6  \n",
       "17992    0.0705    0.335   73.016            257067.0               4      2  \n",
       "17993    0.6660    0.262  105.000            216222.0               4      8  \n",
       "17994    0.2560    0.355  131.363            219693.0               4      8  \n",
       "17995    0.3340    0.377  138.102            182227.0               4     10  "
      ]
     },
     "execution_count": 193,
     "metadata": {},
     "output_type": "execute_result"
    }
   ],
   "source": [
    "data.tail()"
   ]
  },
  {
   "cell_type": "markdown",
   "id": "3e24a2c6",
   "metadata": {},
   "source": [
    "Столбцы (признаки) имеют имена:\n",
    "\n",
    "- artist name - имя артиста\n",
    "- track name - название песни\n",
    "- popularity - популярность\n",
    "- danceability - коэффициент \"танцевальности\"\n",
    "- energy - энергичность\n",
    "- key \n",
    "- loudness - громкость\n",
    "- mode\n",
    "- speechiness -  бессловесность\n",
    "- acousticness - акустичность\n",
    "- instrumentalness - инструменатльность\n",
    "- liveness \n",
    "- valence  Описывает музыкальную позитивность\n",
    "- tempo - темп песни\n",
    "- duration in -milliseconds  - длительность\n",
    "- time_signature - размер такта\n",
    "- Class - класс музыки \n",
    "\n",
    "Требуется предсказать категориальный признак Class по остальным признакам. Это задача классификации.\n",
    "Классы: Rock - 10 , Indie - 6 , Pop - 9, Metal - 8, HipHop - 5, Alt_Music - 1 , Blues - 2 , Acoustic/Folk - 0 , Instrumental-7 , Country - 4 , Bollywood - 3"
   ]
  },
  {
   "cell_type": "code",
   "execution_count": 194,
   "id": "e4cd11bb",
   "metadata": {},
   "outputs": [
    {
     "data": {
      "text/plain": [
       "0.005     2.000\n",
       "0.010     4.000\n",
       "0.050    16.000\n",
       "0.100    23.000\n",
       "0.500    44.000\n",
       "0.900    68.000\n",
       "0.950    74.650\n",
       "0.990    84.000\n",
       "0.995    87.165\n",
       "Name: Popularity, dtype: float64"
      ]
     },
     "execution_count": 194,
     "metadata": {},
     "output_type": "execute_result"
    }
   ],
   "source": [
    "data['Popularity'].quantile([0.005,.01,.05,.1,.5,.9,.95,.99,.995])"
   ]
  },
  {
   "cell_type": "markdown",
   "id": "129e79b7",
   "metadata": {},
   "source": [
    "Мы видим, что $99.9\\%$ всех значений признака 'Popularity' находится в диапазоне от $2.0$ до $87.165$  (это значения квантилей, соответствующих уровням $0.005$ и $0.995$ соотвтетственно)"
   ]
  },
  {
   "cell_type": "markdown",
   "id": "ff2b56de",
   "metadata": {},
   "source": [
    "Удалим все строки таблицы, в которых 'Popularity' выходят за пределы квантилей $0.005$, $0.995$."
   ]
  },
  {
   "cell_type": "code",
   "execution_count": 195,
   "id": "21eca15b",
   "metadata": {},
   "outputs": [
    {
     "data": {
      "text/plain": [
       "(17844, 17)"
      ]
     },
     "execution_count": 195,
     "metadata": {},
     "output_type": "execute_result"
    }
   ],
   "source": [
    "rows_to_drop = data[\n",
    "    (data['Popularity'] < data['Popularity'].quantile(0.005)) | (data['Popularity'] > data['Popularity'].quantile(0.995))].index\n",
    "data = data.drop(rows_to_drop)\n",
    "data.shape"
   ]
  },
  {
   "cell_type": "code",
   "execution_count": 196,
   "id": "ad6e958b",
   "metadata": {},
   "outputs": [],
   "source": [
    "data_numeric = data.select_dtypes(exclude ='object')"
   ]
  },
  {
   "cell_type": "code",
   "execution_count": 197,
   "id": "ce7d22bf",
   "metadata": {
    "scrolled": true
   },
   "outputs": [
    {
     "data": {
      "image/png": "[encoded data removed]",
      "text/plain": [
       "<Figure size 1440x1440 with 15 Axes>"
      ]
     },
     "metadata": {
      "needs_background": "light"
     },
     "output_type": "display_data"
    }
   ],
   "source": [
    "plt.figure(figsize=(20,20))\n",
    "for i in range(15):\n",
    "    plt.subplot(4,5,(i%15)+1)\n",
    "    sns.histplot(data_numeric[data_numeric.columns[i]])\n",
    "    plt.title(data_numeric.columns[i],fontdict={'fontsize':10,'fontweight':'bold','color':'red'})"
   ]
  },
  {
   "cell_type": "markdown",
   "id": "883966f6",
   "metadata": {},
   "source": [
    "Также избавимся от выбросов по признакам 'danceability' и 'loudness' "
   ]
  },
  {
   "cell_type": "code",
   "execution_count": 198,
   "id": "fee2abdd",
   "metadata": {},
   "outputs": [
    {
     "data": {
      "text/plain": [
       "(14515, 17)"
      ]
     },
     "execution_count": 198,
     "metadata": {},
     "output_type": "execute_result"
    }
   ],
   "source": [
    "rows_to_drop = data[\n",
    "    (data['danceability'] < data['danceability'].quantile(0.005)) | (data['danceability'] > data['danceability'].quantile(0.995))|\n",
    "    (data['loudness'] < data['loudness'].quantile(0.1)) | (data['loudness'] > data['loudness'].quantile(0.92))].index\n",
    "data = data.drop(rows_to_drop)\n",
    "data.shape"
   ]
  },
  {
   "cell_type": "code",
   "execution_count": 199,
   "id": "2e4114e2",
   "metadata": {
    "scrolled": false
   },
   "outputs": [
    {
     "data": {
      "image/png": "[encoded data removed]",
      "text/plain": [
       "<Figure size 432x288 with 1 Axes>"
      ]
     },
     "metadata": {
      "needs_background": "light"
     },
     "output_type": "display_data"
    }
   ],
   "source": [
    "data['danceability'].plot(kind ='box')\n",
    "plt.show()"
   ]
  },
  {
   "cell_type": "code",
   "execution_count": 200,
   "id": "ccded301",
   "metadata": {
    "scrolled": false
   },
   "outputs": [
    {
     "data": {
      "image/png": "[encoded data removed]",
      "text/plain": [
       "<Figure size 432x288 with 1 Axes>"
      ]
     },
     "metadata": {
      "needs_background": "light"
     },
     "output_type": "display_data"
    }
   ],
   "source": [
    "data['loudness'].plot(kind ='box')\n",
    "plt.show()"
   ]
  },
  {
   "cell_type": "markdown",
   "id": "e6999298",
   "metadata": {},
   "source": [
    "# Визуализация и описательная статистика\n",
    "Получим сводную информацию о количественных признаках. Найдем средние значения, стандартное отклонение, минимальное и макимальное значения, медиану и значения квартилей:"
   ]
  },
  {
   "cell_type": "code",
   "execution_count": 201,
   "id": "25251d16",
   "metadata": {
    "scrolled": true
   },
   "outputs": [
    {
     "data": {
      "text/html": [
       "<div>\n",
       "<style scoped>\n",
       "    .dataframe tbody tr th:only-of-type {\n",
       "        vertical-align: middle;\n",
       "    }\n",
       "\n",
       "    .dataframe tbody tr th {\n",
       "        vertical-align: top;\n",
       "    }\n",
       "\n",
       "    .dataframe thead th {\n",
       "        text-align: right;\n",
       "    }\n",
       "</style>\n",
       "<table border=\"1\" class=\"dataframe\">\n",
       "  <thead>\n",
       "    <tr style=\"text-align: right;\">\n",
       "      <th></th>\n",
       "      <th>Popularity</th>\n",
       "      <th>danceability</th>\n",
       "      <th>energy</th>\n",
       "      <th>key</th>\n",
       "      <th>loudness</th>\n",
       "      <th>mode</th>\n",
       "      <th>speechiness</th>\n",
       "      <th>acousticness</th>\n",
       "      <th>instrumentalness</th>\n",
       "      <th>liveness</th>\n",
       "      <th>valence</th>\n",
       "      <th>tempo</th>\n",
       "      <th>duration_in min/ms</th>\n",
       "      <th>time_signature</th>\n",
       "      <th>Class</th>\n",
       "    </tr>\n",
       "  </thead>\n",
       "  <tbody>\n",
       "    <tr>\n",
       "      <th>count</th>\n",
       "      <td>14170.000000</td>\n",
       "      <td>14515.000000</td>\n",
       "      <td>14515.000000</td>\n",
       "      <td>12945.000000</td>\n",
       "      <td>14515.000000</td>\n",
       "      <td>14515.000000</td>\n",
       "      <td>14515.000000</td>\n",
       "      <td>14515.000000</td>\n",
       "      <td>10824.000000</td>\n",
       "      <td>14515.000000</td>\n",
       "      <td>14515.000000</td>\n",
       "      <td>14515.000000</td>\n",
       "      <td>1.451500e+04</td>\n",
       "      <td>14515.000000</td>\n",
       "      <td>14515.000000</td>\n",
       "    </tr>\n",
       "    <tr>\n",
       "      <th>mean</th>\n",
       "      <td>44.722795</td>\n",
       "      <td>0.552840</td>\n",
       "      <td>0.687750</td>\n",
       "      <td>5.976053</td>\n",
       "      <td>-7.295637</td>\n",
       "      <td>0.635687</td>\n",
       "      <td>0.079004</td>\n",
       "      <td>0.212305</td>\n",
       "      <td>0.148819</td>\n",
       "      <td>0.197415</td>\n",
       "      <td>0.500176</td>\n",
       "      <td>123.147639</td>\n",
       "      <td>2.071716e+05</td>\n",
       "      <td>3.933104</td>\n",
       "      <td>6.686531</td>\n",
       "    </tr>\n",
       "    <tr>\n",
       "      <th>std</th>\n",
       "      <td>17.156771</td>\n",
       "      <td>0.159074</td>\n",
       "      <td>0.193286</td>\n",
       "      <td>3.207452</td>\n",
       "      <td>2.275773</td>\n",
       "      <td>0.481254</td>\n",
       "      <td>0.082555</td>\n",
       "      <td>0.273103</td>\n",
       "      <td>0.274976</td>\n",
       "      <td>0.160238</td>\n",
       "      <td>0.234528</td>\n",
       "      <td>29.072091</td>\n",
       "      <td>1.058764e+05</td>\n",
       "      <td>0.341842</td>\n",
       "      <td>3.244585</td>\n",
       "    </tr>\n",
       "    <tr>\n",
       "      <th>min</th>\n",
       "      <td>2.000000</td>\n",
       "      <td>0.123000</td>\n",
       "      <td>0.000020</td>\n",
       "      <td>1.000000</td>\n",
       "      <td>-12.952000</td>\n",
       "      <td>0.000000</td>\n",
       "      <td>0.022500</td>\n",
       "      <td>0.000000</td>\n",
       "      <td>0.000001</td>\n",
       "      <td>0.011900</td>\n",
       "      <td>0.018300</td>\n",
       "      <td>42.956000</td>\n",
       "      <td>9.691500e-01</td>\n",
       "      <td>1.000000</td>\n",
       "      <td>0.000000</td>\n",
       "    </tr>\n",
       "    <tr>\n",
       "      <th>25%</th>\n",
       "      <td>33.000000</td>\n",
       "      <td>0.443000</td>\n",
       "      <td>0.551000</td>\n",
       "      <td>3.000000</td>\n",
       "      <td>-8.906000</td>\n",
       "      <td>0.000000</td>\n",
       "      <td>0.034200</td>\n",
       "      <td>0.004270</td>\n",
       "      <td>0.000074</td>\n",
       "      <td>0.097600</td>\n",
       "      <td>0.317000</td>\n",
       "      <td>99.997000</td>\n",
       "      <td>1.724890e+05</td>\n",
       "      <td>4.000000</td>\n",
       "      <td>5.000000</td>\n",
       "    </tr>\n",
       "    <tr>\n",
       "      <th>50%</th>\n",
       "      <td>44.000000</td>\n",
       "      <td>0.554000</td>\n",
       "      <td>0.708000</td>\n",
       "      <td>6.000000</td>\n",
       "      <td>-6.945000</td>\n",
       "      <td>1.000000</td>\n",
       "      <td>0.046800</td>\n",
       "      <td>0.069900</td>\n",
       "      <td>0.002865</td>\n",
       "      <td>0.132000</td>\n",
       "      <td>0.496000</td>\n",
       "      <td>121.010000</td>\n",
       "      <td>2.116300e+05</td>\n",
       "      <td>4.000000</td>\n",
       "      <td>8.000000</td>\n",
       "    </tr>\n",
       "    <tr>\n",
       "      <th>75%</th>\n",
       "      <td>57.000000</td>\n",
       "      <td>0.667000</td>\n",
       "      <td>0.849000</td>\n",
       "      <td>9.000000</td>\n",
       "      <td>-5.440500</td>\n",
       "      <td>1.000000</td>\n",
       "      <td>0.081250</td>\n",
       "      <td>0.355000</td>\n",
       "      <td>0.125000</td>\n",
       "      <td>0.258000</td>\n",
       "      <td>0.682500</td>\n",
       "      <td>142.007500</td>\n",
       "      <td>2.541645e+05</td>\n",
       "      <td>4.000000</td>\n",
       "      <td>10.000000</td>\n",
       "    </tr>\n",
       "    <tr>\n",
       "      <th>max</th>\n",
       "      <td>87.000000</td>\n",
       "      <td>0.928000</td>\n",
       "      <td>1.000000</td>\n",
       "      <td>11.000000</td>\n",
       "      <td>-3.725000</td>\n",
       "      <td>1.000000</td>\n",
       "      <td>0.955000</td>\n",
       "      <td>0.996000</td>\n",
       "      <td>0.996000</td>\n",
       "      <td>1.000000</td>\n",
       "      <td>0.986000</td>\n",
       "      <td>217.416000</td>\n",
       "      <td>1.477187e+06</td>\n",
       "      <td>5.000000</td>\n",
       "      <td>10.000000</td>\n",
       "    </tr>\n",
       "  </tbody>\n",
       "</table>\n",
       "</div>"
      ],
      "text/plain": [
       "         Popularity  danceability        energy           key      loudness  \\\n",
       "count  14170.000000  14515.000000  14515.000000  12945.000000  14515.000000   \n",
       "mean      44.722795      0.552840      0.687750      5.976053     -7.295637   \n",
       "std       17.156771      0.159074      0.193286      3.207452      2.275773   \n",
       "min        2.000000      0.123000      0.000020      1.000000    -12.952000   \n",
       "25%       33.000000      0.443000      0.551000      3.000000     -8.906000   \n",
       "50%       44.000000      0.554000      0.708000      6.000000     -6.945000   \n",
       "75%       57.000000      0.667000      0.849000      9.000000     -5.440500   \n",
       "max       87.000000      0.928000      1.000000     11.000000     -3.725000   \n",
       "\n",
       "               mode   speechiness  acousticness  instrumentalness  \\\n",
       "count  14515.000000  14515.000000  14515.000000      10824.000000   \n",
       "mean       0.635687      0.079004      0.212305          0.148819   \n",
       "std        0.481254      0.082555      0.273103          0.274976   \n",
       "min        0.000000      0.022500      0.000000          0.000001   \n",
       "25%        0.000000      0.034200      0.004270          0.000074   \n",
       "50%        1.000000      0.046800      0.069900          0.002865   \n",
       "75%        1.000000      0.081250      0.355000          0.125000   \n",
       "max        1.000000      0.955000      0.996000          0.996000   \n",
       "\n",
       "           liveness       valence         tempo  duration_in min/ms  \\\n",
       "count  14515.000000  14515.000000  14515.000000        1.451500e+04   \n",
       "mean       0.197415      0.500176    123.147639        2.071716e+05   \n",
       "std        0.160238      0.234528     29.072091        1.058764e+05   \n",
       "min        0.011900      0.018300     42.956000        9.691500e-01   \n",
       "25%        0.097600      0.317000     99.997000        1.724890e+05   \n",
       "50%        0.132000      0.496000    121.010000        2.116300e+05   \n",
       "75%        0.258000      0.682500    142.007500        2.541645e+05   \n",
       "max        1.000000      0.986000    217.416000        1.477187e+06   \n",
       "\n",
       "       time_signature         Class  \n",
       "count    14515.000000  14515.000000  \n",
       "mean         3.933104      6.686531  \n",
       "std          0.341842      3.244585  \n",
       "min          1.000000      0.000000  \n",
       "25%          4.000000      5.000000  \n",
       "50%          4.000000      8.000000  \n",
       "75%          4.000000     10.000000  \n",
       "max          5.000000     10.000000  "
      ]
     },
     "execution_count": 201,
     "metadata": {},
     "output_type": "execute_result"
    }
   ],
   "source": [
    "data.describe()"
   ]
  },
  {
   "cell_type": "code",
   "execution_count": 202,
   "id": "f7ff68df",
   "metadata": {
    "scrolled": true
   },
   "outputs": [
    {
     "data": {
      "text/plain": [
       "Artist Name            object\n",
       "Track Name             object\n",
       "Popularity            float64\n",
       "danceability          float64\n",
       "energy                float64\n",
       "key                   float64\n",
       "loudness              float64\n",
       "mode                    int64\n",
       "speechiness           float64\n",
       "acousticness          float64\n",
       "instrumentalness      float64\n",
       "liveness              float64\n",
       "valence               float64\n",
       "tempo                 float64\n",
       "duration_in min/ms    float64\n",
       "time_signature          int64\n",
       "Class                   int64\n",
       "dtype: object"
      ]
     },
     "execution_count": 202,
     "metadata": {},
     "output_type": "execute_result"
    }
   ],
   "source": [
    "data.dtypes"
   ]
  },
  {
   "cell_type": "markdown",
   "id": "247bcce1",
   "metadata": {},
   "source": [
    "Проверим датасет на наличие пропущенных значений."
   ]
  },
  {
   "cell_type": "code",
   "execution_count": 203,
   "id": "6bff8589",
   "metadata": {
    "scrolled": true
   },
   "outputs": [
    {
     "data": {
      "text/plain": [
       "Artist Name              0\n",
       "Track Name               0\n",
       "Popularity             345\n",
       "danceability             0\n",
       "energy                   0\n",
       "key                   1570\n",
       "loudness                 0\n",
       "mode                     0\n",
       "speechiness              0\n",
       "acousticness             0\n",
       "instrumentalness      3691\n",
       "liveness                 0\n",
       "valence                  0\n",
       "tempo                    0\n",
       "duration_in min/ms       0\n",
       "time_signature           0\n",
       "Class                    0\n",
       "dtype: int64"
      ]
     },
     "execution_count": 203,
     "metadata": {},
     "output_type": "execute_result"
    }
   ],
   "source": [
    "data.isna().sum()"
   ]
  },
  {
   "cell_type": "markdown",
   "id": "f551c952",
   "metadata": {},
   "source": [
    "Как мы видим имеются пропущенные данные. \n",
    "Заполняем их медианами"
   ]
  },
  {
   "cell_type": "code",
   "execution_count": 204,
   "id": "dcce39f0",
   "metadata": {},
   "outputs": [
    {
     "data": {
      "text/plain": [
       "Artist Name           0\n",
       "Track Name            0\n",
       "Popularity            0\n",
       "danceability          0\n",
       "energy                0\n",
       "key                   0\n",
       "loudness              0\n",
       "mode                  0\n",
       "speechiness           0\n",
       "acousticness          0\n",
       "instrumentalness      0\n",
       "liveness              0\n",
       "valence               0\n",
       "tempo                 0\n",
       "duration_in min/ms    0\n",
       "time_signature        0\n",
       "Class                 0\n",
       "dtype: int64"
      ]
     },
     "execution_count": 204,
     "metadata": {},
     "output_type": "execute_result"
    }
   ],
   "source": [
    "data.fillna(data.median(axis = 0), axis=0 , inplace=True)\n",
    "data.isna().sum()"
   ]
  },
  {
   "cell_type": "markdown",
   "id": "a029fa8c",
   "metadata": {},
   "source": [
    "Вычислим матрицу корреляции для количественных признаков:"
   ]
  },
  {
   "cell_type": "code",
   "execution_count": 205,
   "id": "ec58622d",
   "metadata": {},
   "outputs": [
    {
     "data": {
      "image/png": "[encoded data removed]",
      "text/plain": [
       "<Figure size 720x432 with 2 Axes>"
      ]
     },
     "metadata": {
      "needs_background": "light"
     },
     "output_type": "display_data"
    }
   ],
   "source": [
    "plt.figure(figsize=(10,6))\n",
    "x=sns.heatmap(data.corr(),annot=True, fmt='0.1f')\n",
    "plt.show()"
   ]
  },
  {
   "cell_type": "code",
   "execution_count": 206,
   "id": "157c75ed",
   "metadata": {},
   "outputs": [],
   "source": [
    "y = data[\"Class\"]\n",
    "data = data.drop([\"Class\"], axis=1)"
   ]
  },
  {
   "cell_type": "markdown",
   "id": "bb21580d",
   "metadata": {},
   "source": [
    "# Нормализация количественных признаков"
   ]
  },
  {
   "cell_type": "markdown",
   "id": "9627667e",
   "metadata": {},
   "source": [
    "Выполним стандартизацию всех признаков (линейное преобразование, приводящее все значения к нулевому среднему и единичному стандартному отклонению): \n",
    "Выбираем имеено этот вариант нормализации, так как в дальнейшем будем использовать алгоритм k ближайших соседей, основанный на измерении расстояний."
   ]
  },
  {
   "cell_type": "code",
   "execution_count": 207,
   "id": "a1e853e0",
   "metadata": {},
   "outputs": [],
   "source": [
    "data_stand = (data - data.mean(axis = 0))/data.std(axis = 0)\n",
    "data = pd.concat((data_stand,y),axis = 1)"
   ]
  },
  {
   "cell_type": "code",
   "execution_count": 208,
   "id": "63a85a74",
   "metadata": {},
   "outputs": [
    {
     "data": {
      "text/html": [
       "<div>\n",
       "<style scoped>\n",
       "    .dataframe tbody tr th:only-of-type {\n",
       "        vertical-align: middle;\n",
       "    }\n",
       "\n",
       "    .dataframe tbody tr th {\n",
       "        vertical-align: top;\n",
       "    }\n",
       "\n",
       "    .dataframe thead th {\n",
       "        text-align: right;\n",
       "    }\n",
       "</style>\n",
       "<table border=\"1\" class=\"dataframe\">\n",
       "  <thead>\n",
       "    <tr style=\"text-align: right;\">\n",
       "      <th></th>\n",
       "      <th>Popularity</th>\n",
       "      <th>acousticness</th>\n",
       "      <th>danceability</th>\n",
       "      <th>duration_in min/ms</th>\n",
       "      <th>energy</th>\n",
       "      <th>instrumentalness</th>\n",
       "      <th>key</th>\n",
       "      <th>liveness</th>\n",
       "      <th>loudness</th>\n",
       "      <th>mode</th>\n",
       "      <th>speechiness</th>\n",
       "      <th>tempo</th>\n",
       "      <th>time_signature</th>\n",
       "      <th>valence</th>\n",
       "      <th>Class</th>\n",
       "    </tr>\n",
       "  </thead>\n",
       "  <tbody>\n",
       "    <tr>\n",
       "      <th>count</th>\n",
       "      <td>1.451500e+04</td>\n",
       "      <td>1.451500e+04</td>\n",
       "      <td>1.451500e+04</td>\n",
       "      <td>1.451500e+04</td>\n",
       "      <td>1.451500e+04</td>\n",
       "      <td>1.451500e+04</td>\n",
       "      <td>1.451500e+04</td>\n",
       "      <td>1.451500e+04</td>\n",
       "      <td>1.451500e+04</td>\n",
       "      <td>1.451500e+04</td>\n",
       "      <td>1.451500e+04</td>\n",
       "      <td>1.451500e+04</td>\n",
       "      <td>1.451500e+04</td>\n",
       "      <td>1.451500e+04</td>\n",
       "      <td>14515.000000</td>\n",
       "    </tr>\n",
       "    <tr>\n",
       "      <th>mean</th>\n",
       "      <td>-1.254307e-17</td>\n",
       "      <td>-2.709013e-15</td>\n",
       "      <td>-1.570512e-14</td>\n",
       "      <td>1.078222e-15</td>\n",
       "      <td>9.583531e-15</td>\n",
       "      <td>1.719726e-14</td>\n",
       "      <td>-1.887035e-16</td>\n",
       "      <td>5.773925e-16</td>\n",
       "      <td>-4.963014e-15</td>\n",
       "      <td>3.709361e-16</td>\n",
       "      <td>2.608378e-15</td>\n",
       "      <td>5.066327e-15</td>\n",
       "      <td>-2.125712e-15</td>\n",
       "      <td>2.637382e-15</td>\n",
       "      <td>6.686531</td>\n",
       "    </tr>\n",
       "    <tr>\n",
       "      <th>std</th>\n",
       "      <td>1.000000e+00</td>\n",
       "      <td>1.000000e+00</td>\n",
       "      <td>1.000000e+00</td>\n",
       "      <td>1.000000e+00</td>\n",
       "      <td>1.000000e+00</td>\n",
       "      <td>1.000000e+00</td>\n",
       "      <td>1.000000e+00</td>\n",
       "      <td>1.000000e+00</td>\n",
       "      <td>1.000000e+00</td>\n",
       "      <td>1.000000e+00</td>\n",
       "      <td>1.000000e+00</td>\n",
       "      <td>1.000000e+00</td>\n",
       "      <td>1.000000e+00</td>\n",
       "      <td>1.000000e+00</td>\n",
       "      <td>3.244585</td>\n",
       "    </tr>\n",
       "    <tr>\n",
       "      <th>min</th>\n",
       "      <td>-2.519209e+00</td>\n",
       "      <td>-7.773824e-01</td>\n",
       "      <td>-2.702137e+00</td>\n",
       "      <td>-1.956722e+00</td>\n",
       "      <td>-3.558096e+00</td>\n",
       "      <td>-4.544297e-01</td>\n",
       "      <td>-1.643648e+00</td>\n",
       "      <td>-1.157750e+00</td>\n",
       "      <td>-2.485469e+00</td>\n",
       "      <td>-1.320899e+00</td>\n",
       "      <td>-6.844391e-01</td>\n",
       "      <td>-2.758372e+00</td>\n",
       "      <td>-8.580300e+00</td>\n",
       "      <td>-2.054664e+00</td>\n",
       "      <td>0.000000</td>\n",
       "    </tr>\n",
       "    <tr>\n",
       "      <th>25%</th>\n",
       "      <td>-6.905156e-01</td>\n",
       "      <td>-7.617473e-01</td>\n",
       "      <td>-6.904962e-01</td>\n",
       "      <td>-3.275763e-01</td>\n",
       "      <td>-7.075029e-01</td>\n",
       "      <td>-4.533801e-01</td>\n",
       "      <td>-6.532287e-01</td>\n",
       "      <td>-6.229187e-01</td>\n",
       "      <td>-7.076116e-01</td>\n",
       "      <td>-1.320899e+00</td>\n",
       "      <td>-5.427148e-01</td>\n",
       "      <td>-7.963183e-01</td>\n",
       "      <td>1.956939e-01</td>\n",
       "      <td>-7.810414e-01</td>\n",
       "      <td>5.000000</td>\n",
       "    </tr>\n",
       "    <tr>\n",
       "      <th>50%</th>\n",
       "      <td>-4.162430e-02</td>\n",
       "      <td>-5.214350e-01</td>\n",
       "      <td>7.291590e-03</td>\n",
       "      <td>4.210958e-02</td>\n",
       "      <td>1.047649e-01</td>\n",
       "      <td>-4.427784e-01</td>\n",
       "      <td>7.050867e-03</td>\n",
       "      <td>-4.082374e-01</td>\n",
       "      <td>1.540738e-01</td>\n",
       "      <td>7.570081e-01</td>\n",
       "      <td>-3.900886e-01</td>\n",
       "      <td>-7.352889e-02</td>\n",
       "      <td>1.956939e-01</td>\n",
       "      <td>-1.780577e-02</td>\n",
       "      <td>8.000000</td>\n",
       "    </tr>\n",
       "    <tr>\n",
       "      <th>75%</th>\n",
       "      <td>6.662571e-01</td>\n",
       "      <td>5.224937e-01</td>\n",
       "      <td>7.176521e-01</td>\n",
       "      <td>4.438470e-01</td>\n",
       "      <td>8.342538e-01</td>\n",
       "      <td>-3.205910e-01</td>\n",
       "      <td>9.974703e-01</td>\n",
       "      <td>3.780952e-01</td>\n",
       "      <td>8.151679e-01</td>\n",
       "      <td>7.570081e-01</td>\n",
       "      <td>2.721069e-02</td>\n",
       "      <td>6.487274e-01</td>\n",
       "      <td>1.956939e-01</td>\n",
       "      <td>7.774090e-01</td>\n",
       "      <td>10.000000</td>\n",
       "    </tr>\n",
       "    <tr>\n",
       "      <th>max</th>\n",
       "      <td>2.494951e+00</td>\n",
       "      <td>2.869594e+00</td>\n",
       "      <td>2.358396e+00</td>\n",
       "      <td>1.199527e+01</td>\n",
       "      <td>1.615480e+00</td>\n",
       "      <td>3.597461e+00</td>\n",
       "      <td>1.657750e+00</td>\n",
       "      <td>5.008721e+00</td>\n",
       "      <td>1.568978e+00</td>\n",
       "      <td>7.570081e-01</td>\n",
       "      <td>1.061111e+01</td>\n",
       "      <td>3.242572e+00</td>\n",
       "      <td>3.121025e+00</td>\n",
       "      <td>2.071499e+00</td>\n",
       "      <td>10.000000</td>\n",
       "    </tr>\n",
       "  </tbody>\n",
       "</table>\n",
       "</div>"
      ],
      "text/plain": [
       "         Popularity  acousticness  danceability  duration_in min/ms  \\\n",
       "count  1.451500e+04  1.451500e+04  1.451500e+04        1.451500e+04   \n",
       "mean  -1.254307e-17 -2.709013e-15 -1.570512e-14        1.078222e-15   \n",
       "std    1.000000e+00  1.000000e+00  1.000000e+00        1.000000e+00   \n",
       "min   -2.519209e+00 -7.773824e-01 -2.702137e+00       -1.956722e+00   \n",
       "25%   -6.905156e-01 -7.617473e-01 -6.904962e-01       -3.275763e-01   \n",
       "50%   -4.162430e-02 -5.214350e-01  7.291590e-03        4.210958e-02   \n",
       "75%    6.662571e-01  5.224937e-01  7.176521e-01        4.438470e-01   \n",
       "max    2.494951e+00  2.869594e+00  2.358396e+00        1.199527e+01   \n",
       "\n",
       "             energy  instrumentalness           key      liveness  \\\n",
       "count  1.451500e+04      1.451500e+04  1.451500e+04  1.451500e+04   \n",
       "mean   9.583531e-15      1.719726e-14 -1.887035e-16  5.773925e-16   \n",
       "std    1.000000e+00      1.000000e+00  1.000000e+00  1.000000e+00   \n",
       "min   -3.558096e+00     -4.544297e-01 -1.643648e+00 -1.157750e+00   \n",
       "25%   -7.075029e-01     -4.533801e-01 -6.532287e-01 -6.229187e-01   \n",
       "50%    1.047649e-01     -4.427784e-01  7.050867e-03 -4.082374e-01   \n",
       "75%    8.342538e-01     -3.205910e-01  9.974703e-01  3.780952e-01   \n",
       "max    1.615480e+00      3.597461e+00  1.657750e+00  5.008721e+00   \n",
       "\n",
       "           loudness          mode   speechiness         tempo  time_signature  \\\n",
       "count  1.451500e+04  1.451500e+04  1.451500e+04  1.451500e+04    1.451500e+04   \n",
       "mean  -4.963014e-15  3.709361e-16  2.608378e-15  5.066327e-15   -2.125712e-15   \n",
       "std    1.000000e+00  1.000000e+00  1.000000e+00  1.000000e+00    1.000000e+00   \n",
       "min   -2.485469e+00 -1.320899e+00 -6.844391e-01 -2.758372e+00   -8.580300e+00   \n",
       "25%   -7.076116e-01 -1.320899e+00 -5.427148e-01 -7.963183e-01    1.956939e-01   \n",
       "50%    1.540738e-01  7.570081e-01 -3.900886e-01 -7.352889e-02    1.956939e-01   \n",
       "75%    8.151679e-01  7.570081e-01  2.721069e-02  6.487274e-01    1.956939e-01   \n",
       "max    1.568978e+00  7.570081e-01  1.061111e+01  3.242572e+00    3.121025e+00   \n",
       "\n",
       "            valence         Class  \n",
       "count  1.451500e+04  14515.000000  \n",
       "mean   2.637382e-15      6.686531  \n",
       "std    1.000000e+00      3.244585  \n",
       "min   -2.054664e+00      0.000000  \n",
       "25%   -7.810414e-01      5.000000  \n",
       "50%   -1.780577e-02      8.000000  \n",
       "75%    7.774090e-01     10.000000  \n",
       "max    2.071499e+00     10.000000  "
      ]
     },
     "execution_count": 208,
     "metadata": {},
     "output_type": "execute_result"
    }
   ],
   "source": [
    "data.describe()"
   ]
  },
  {
   "cell_type": "code",
   "execution_count": null,
   "id": "51f3d0cd",
   "metadata": {
    "scrolled": true
   },
   "outputs": [],
   "source": []
  },
  {
   "cell_type": "markdown",
   "id": "0581fc17",
   "metadata": {},
   "source": [
    "# Отбор признаков"
   ]
  },
  {
   "cell_type": "markdown",
   "id": "062ddb99",
   "metadata": {},
   "source": [
    "Для предсказания жанра музыки будедет использовать все признаки кроме Artist Name и Track Name"
   ]
  },
  {
   "cell_type": "code",
   "execution_count": 209,
   "id": "08b42919",
   "metadata": {},
   "outputs": [],
   "source": [
    "X = data.drop(['Class',\"Artist Name\",\"Track Name\"],axis=1)\n",
    "y = data[\"Class\"]\n",
    "X = X.to_numpy()\n",
    "y = y.to_numpy()\n"
   ]
  },
  {
   "cell_type": "markdown",
   "id": "de7ab036",
   "metadata": {},
   "source": [
    "Разобьем данные на обучающую и тестовую выборки в пропорции 3:1 (75% - обучающая выборка, 25% - тестовая):"
   ]
  },
  {
   "cell_type": "code",
   "execution_count": 210,
   "id": "c03610b2",
   "metadata": {},
   "outputs": [
    {
     "name": "stdout",
     "output_type": "stream",
     "text": [
      "10886 3629\n"
     ]
    }
   ],
   "source": [
    "from sklearn.model_selection import train_test_split\n",
    "X_train, X_test, y_train, y_test = train_test_split(X, y, test_size = 0.25, random_state = 45)\n",
    "\n",
    "N_train, _ = X_train.shape \n",
    "N_test,  _ = X_test.shape \n",
    "\n",
    "print(N_train, N_test)"
   ]
  },
  {
   "cell_type": "markdown",
   "id": "97937dbc",
   "metadata": {},
   "source": [
    "# Обучение\n",
    "Проведем обучение с помощью k-nearest neighbors algorithm (k-NN)"
   ]
  },
  {
   "cell_type": "code",
   "execution_count": 211,
   "id": "1ebae242",
   "metadata": {},
   "outputs": [
    {
     "data": {
      "text/plain": [
       "KNeighborsClassifier(n_neighbors=40)"
      ]
     },
     "execution_count": 211,
     "metadata": {},
     "output_type": "execute_result"
    }
   ],
   "source": [
    "from sklearn.neighbors import KNeighborsClassifier\n",
    "\n",
    "knn = KNeighborsClassifier(n_neighbors = 100)\n",
    "knn.set_params(n_neighbors=40)\n",
    "knn.fit(X_train, y_train)"
   ]
  },
  {
   "cell_type": "code",
   "execution_count": 212,
   "id": "4fbb1645",
   "metadata": {},
   "outputs": [],
   "source": [
    "y_test_predict = knn.predict(X_test)\n",
    "y_train_predict = knn.predict(X_train)\n",
    "err_test  = np.mean(y_test  != y_test_predict)\n",
    "err_train = np.mean(y_train != y_train_predict)"
   ]
  },
  {
   "cell_type": "code",
   "execution_count": 213,
   "id": "d96cd0b4",
   "metadata": {},
   "outputs": [
    {
     "data": {
      "text/plain": [
       "(0.5263157894736842, 0.49687672239573766)"
      ]
     },
     "execution_count": 213,
     "metadata": {},
     "output_type": "execute_result"
    }
   ],
   "source": [
    "err_test,err_train"
   ]
  },
  {
   "cell_type": "code",
   "execution_count": 214,
   "id": "22ba4d58",
   "metadata": {},
   "outputs": [
    {
     "data": {
      "image/png": "[encoded data removed]",
      "text/plain": [
       "<Figure size 720x432 with 2 Axes>"
      ]
     },
     "metadata": {
      "needs_background": "light"
     },
     "output_type": "display_data"
    }
   ],
   "source": [
    "from sklearn.metrics import confusion_matrix\n",
    "plt.figure(figsize=(10,6))\n",
    "x=sns.heatmap(confusion_matrix(y_test, y_test_predict),annot=True, fmt='0.1f')\n",
    "plt.show()"
   ]
  },
  {
   "cell_type": "markdown",
   "id": "00d7db5c",
   "metadata": {},
   "source": [
    "# Выводы\n",
    "В ходе данной работы была попутка обучить модель, способную предсказать жанр музыки. Обучение проводилось с помощью метода ближайших k-соседей. Путем подбора оптимальных параметров метода и предварительной обработки данных, был получен процент ошибок на обучающей выборке: 49%, на тестовой выборке: 52%. Можно заметить, что в большинстве случаев при ошибке прогнозирвания, модель относила песню к жанру 'Rock'. Можно предположить,что ошибка связана с несбансированностью классов в сторону категории 'Rock'. К тому же на точность могли повлиять пропущенные значения в таблице. \n",
    "Результат можно улучшить применив другой метод обучения модели, а также применить методы устранения несбалансированности классов."
   ]
  }
 ],
 "metadata": {
  "kernelspec": {
   "display_name": "Python 3",
   "language": "python",
   "name": "python3"
  },
  "language_info": {
   "codemirror_mode": {
    "name": "ipython",
    "version": 3
   },
   "file_extension": ".py",
   "mimetype": "text/x-python",
   "name": "python",
   "nbconvert_exporter": "python",
   "pygments_lexer": "ipython3",
   "version": "3.8.8"
  }
 },
 "nbformat": 4,
 "nbformat_minor": 5
}
